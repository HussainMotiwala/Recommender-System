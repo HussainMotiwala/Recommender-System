{
 "cells": [
  {
   "cell_type": "code",
   "execution_count": 1,
   "id": "19114b1b-e0c9-476e-94ad-7a9ae2f750f4",
   "metadata": {},
   "outputs": [],
   "source": [
    "import numpy as np\n",
    "import pandas as pd\n",
    "import re\n",
    "import chardet\n",
    "from datetime import datetime\n",
    "from sklearn.preprocessing import StandardScaler\n",
    "from sklearn.metrics.pairwise import cosine_similarity\n",
    "import requests\n",
    "from IPython.display import display, HTML, Image\n",
    "from io import BytesIO\n",
    "from PIL import Image\n",
    "import matplotlib.pyplot as plt\n",
    "import base64"
   ]
  },
  {
   "cell_type": "code",
   "execution_count": 2,
   "id": "d982e853-58ae-44c3-aa4b-8dc6dfe8cb8b",
   "metadata": {},
   "outputs": [
    {
     "name": "stdout",
     "output_type": "stream",
     "text": [
      "{'encoding': 'ISO-8859-1', 'confidence': 0.73, 'language': ''}\n"
     ]
    }
   ],
   "source": [
    "# Read the first few bytes of the file to detect encoding\n",
    "with open('books-1.csv', 'rb') as file:\n",
    "    raw_data = file.read(10000)  # Read first 10,000 bytes or so\n",
    "    result = chardet.detect(raw_data)\n",
    "    print(result)"
   ]
  },
  {
   "cell_type": "code",
   "execution_count": 3,
   "id": "84c1f3a7-a44d-4a35-ab2b-b29c260e6aff",
   "metadata": {},
   "outputs": [],
   "source": [
    "# Regex pattern: match semicolons not preceded by '&amp'\n",
    "pattern = r'\\\";\\\"'\n",
    "\n",
    "\n",
    "# Custom function to handle bad lines\n",
    "def log_bad_lines(bad_line):\n",
    "    print(f\"Bad line: {bad_line}\")\n",
    "    return None  # Return None to skip the line\n",
    "\n",
    "df_books = pd.read_csv('books-1.csv', delimiter=pattern, engine='python', encoding='ISO-8859-1', on_bad_lines=log_bad_lines, skipinitialspace=True)"
   ]
  },
  {
   "cell_type": "code",
   "execution_count": 4,
   "id": "3efc3aad-a2fd-4793-9c5d-78597a1469a1",
   "metadata": {},
   "outputs": [
    {
     "data": {
      "text/plain": [
       "271379"
      ]
     },
     "execution_count": 4,
     "metadata": {},
     "output_type": "execute_result"
    }
   ],
   "source": [
    "len(df_books)"
   ]
  },
  {
   "cell_type": "code",
   "execution_count": 5,
   "id": "a574ee55-ace7-44c4-974d-975a8defa4c5",
   "metadata": {},
   "outputs": [],
   "source": [
    "df_books.columns = df_books.columns.str.lstrip('\"')\n",
    "df_books['ISBN'] = df_books['ISBN'].str.lstrip('\"')"
   ]
  },
  {
   "cell_type": "code",
   "execution_count": 6,
   "id": "5c6ae46d-5408-4196-b57e-16a079587372",
   "metadata": {},
   "outputs": [
    {
     "data": {
      "text/html": [
       "<div>\n",
       "<style scoped>\n",
       "    .dataframe tbody tr th:only-of-type {\n",
       "        vertical-align: middle;\n",
       "    }\n",
       "\n",
       "    .dataframe tbody tr th {\n",
       "        vertical-align: top;\n",
       "    }\n",
       "\n",
       "    .dataframe thead th {\n",
       "        text-align: right;\n",
       "    }\n",
       "</style>\n",
       "<table border=\"1\" class=\"dataframe\">\n",
       "  <thead>\n",
       "    <tr style=\"text-align: right;\">\n",
       "      <th></th>\n",
       "      <th>ISBN</th>\n",
       "      <th>Book-Title</th>\n",
       "      <th>Book-Author</th>\n",
       "      <th>Year-Of-Publication</th>\n",
       "      <th>Publisher</th>\n",
       "      <th>Image-URL-S</th>\n",
       "      <th>Image-URL-M</th>\n",
       "      <th>Image-URL-L\"</th>\n",
       "    </tr>\n",
       "  </thead>\n",
       "  <tbody>\n",
       "    <tr>\n",
       "      <th>0</th>\n",
       "      <td>0195153448</td>\n",
       "      <td>Classical Mythology</td>\n",
       "      <td>Mark P. O. Morford</td>\n",
       "      <td>2002</td>\n",
       "      <td>Oxford University Press</td>\n",
       "      <td>http://images.amazon.com/images/P/0195153448.0...</td>\n",
       "      <td>http://images.amazon.com/images/P/0195153448.0...</td>\n",
       "      <td>http://images.amazon.com/images/P/0195153448.0...</td>\n",
       "    </tr>\n",
       "    <tr>\n",
       "      <th>1</th>\n",
       "      <td>0002005018</td>\n",
       "      <td>Clara Callan</td>\n",
       "      <td>Richard Bruce Wright</td>\n",
       "      <td>2001</td>\n",
       "      <td>HarperFlamingo Canada</td>\n",
       "      <td>http://images.amazon.com/images/P/0002005018.0...</td>\n",
       "      <td>http://images.amazon.com/images/P/0002005018.0...</td>\n",
       "      <td>http://images.amazon.com/images/P/0002005018.0...</td>\n",
       "    </tr>\n",
       "    <tr>\n",
       "      <th>2</th>\n",
       "      <td>0060973129</td>\n",
       "      <td>Decision in Normandy</td>\n",
       "      <td>Carlo D'Este</td>\n",
       "      <td>1991</td>\n",
       "      <td>HarperPerennial</td>\n",
       "      <td>http://images.amazon.com/images/P/0060973129.0...</td>\n",
       "      <td>http://images.amazon.com/images/P/0060973129.0...</td>\n",
       "      <td>http://images.amazon.com/images/P/0060973129.0...</td>\n",
       "    </tr>\n",
       "    <tr>\n",
       "      <th>3</th>\n",
       "      <td>0374157065</td>\n",
       "      <td>Flu: The Story of the Great Influenza Pandemic...</td>\n",
       "      <td>Gina Bari Kolata</td>\n",
       "      <td>1999</td>\n",
       "      <td>Farrar Straus Giroux</td>\n",
       "      <td>http://images.amazon.com/images/P/0374157065.0...</td>\n",
       "      <td>http://images.amazon.com/images/P/0374157065.0...</td>\n",
       "      <td>http://images.amazon.com/images/P/0374157065.0...</td>\n",
       "    </tr>\n",
       "    <tr>\n",
       "      <th>4</th>\n",
       "      <td>0393045218</td>\n",
       "      <td>The Mummies of Urumchi</td>\n",
       "      <td>E. J. W. Barber</td>\n",
       "      <td>1999</td>\n",
       "      <td>W. W. Norton &amp;amp; Company</td>\n",
       "      <td>http://images.amazon.com/images/P/0393045218.0...</td>\n",
       "      <td>http://images.amazon.com/images/P/0393045218.0...</td>\n",
       "      <td>http://images.amazon.com/images/P/0393045218.0...</td>\n",
       "    </tr>\n",
       "  </tbody>\n",
       "</table>\n",
       "</div>"
      ],
      "text/plain": [
       "         ISBN                                         Book-Title  \\\n",
       "0  0195153448                                Classical Mythology   \n",
       "1  0002005018                                       Clara Callan   \n",
       "2  0060973129                               Decision in Normandy   \n",
       "3  0374157065  Flu: The Story of the Great Influenza Pandemic...   \n",
       "4  0393045218                             The Mummies of Urumchi   \n",
       "\n",
       "            Book-Author  Year-Of-Publication                   Publisher  \\\n",
       "0    Mark P. O. Morford                 2002     Oxford University Press   \n",
       "1  Richard Bruce Wright                 2001       HarperFlamingo Canada   \n",
       "2          Carlo D'Este                 1991             HarperPerennial   \n",
       "3      Gina Bari Kolata                 1999        Farrar Straus Giroux   \n",
       "4       E. J. W. Barber                 1999  W. W. Norton &amp; Company   \n",
       "\n",
       "                                         Image-URL-S  \\\n",
       "0  http://images.amazon.com/images/P/0195153448.0...   \n",
       "1  http://images.amazon.com/images/P/0002005018.0...   \n",
       "2  http://images.amazon.com/images/P/0060973129.0...   \n",
       "3  http://images.amazon.com/images/P/0374157065.0...   \n",
       "4  http://images.amazon.com/images/P/0393045218.0...   \n",
       "\n",
       "                                         Image-URL-M  \\\n",
       "0  http://images.amazon.com/images/P/0195153448.0...   \n",
       "1  http://images.amazon.com/images/P/0002005018.0...   \n",
       "2  http://images.amazon.com/images/P/0060973129.0...   \n",
       "3  http://images.amazon.com/images/P/0374157065.0...   \n",
       "4  http://images.amazon.com/images/P/0393045218.0...   \n",
       "\n",
       "                                        Image-URL-L\"  \n",
       "0  http://images.amazon.com/images/P/0195153448.0...  \n",
       "1  http://images.amazon.com/images/P/0002005018.0...  \n",
       "2  http://images.amazon.com/images/P/0060973129.0...  \n",
       "3  http://images.amazon.com/images/P/0374157065.0...  \n",
       "4  http://images.amazon.com/images/P/0393045218.0...  "
      ]
     },
     "execution_count": 6,
     "metadata": {},
     "output_type": "execute_result"
    }
   ],
   "source": [
    "df_books.head()"
   ]
  },
  {
   "cell_type": "code",
   "execution_count": 7,
   "id": "a810c6d0-17fe-4d0d-875d-1e46016fdae8",
   "metadata": {},
   "outputs": [
    {
     "data": {
      "text/html": [
       "<div>\n",
       "<style scoped>\n",
       "    .dataframe tbody tr th:only-of-type {\n",
       "        vertical-align: middle;\n",
       "    }\n",
       "\n",
       "    .dataframe tbody tr th {\n",
       "        vertical-align: top;\n",
       "    }\n",
       "\n",
       "    .dataframe thead th {\n",
       "        text-align: right;\n",
       "    }\n",
       "</style>\n",
       "<table border=\"1\" class=\"dataframe\">\n",
       "  <thead>\n",
       "    <tr style=\"text-align: right;\">\n",
       "      <th></th>\n",
       "      <th>ISBN</th>\n",
       "      <th>Book-Title</th>\n",
       "      <th>Book-Author</th>\n",
       "      <th>Year-Of-Publication</th>\n",
       "      <th>Publisher</th>\n",
       "      <th>Image-URL-S</th>\n",
       "      <th>Image-URL-M</th>\n",
       "      <th>Image-URL-L\"</th>\n",
       "    </tr>\n",
       "  </thead>\n",
       "  <tbody>\n",
       "    <tr>\n",
       "      <th>271374</th>\n",
       "      <td>0440400988</td>\n",
       "      <td>There's a Bat in Bunk Five</td>\n",
       "      <td>Paula Danziger</td>\n",
       "      <td>1988</td>\n",
       "      <td>Random House Childrens Pub (Mm)</td>\n",
       "      <td>http://images.amazon.com/images/P/0440400988.0...</td>\n",
       "      <td>http://images.amazon.com/images/P/0440400988.0...</td>\n",
       "      <td>http://images.amazon.com/images/P/0440400988.0...</td>\n",
       "    </tr>\n",
       "    <tr>\n",
       "      <th>271375</th>\n",
       "      <td>0525447644</td>\n",
       "      <td>From One to One Hundred</td>\n",
       "      <td>Teri Sloat</td>\n",
       "      <td>1991</td>\n",
       "      <td>Dutton Books</td>\n",
       "      <td>http://images.amazon.com/images/P/0525447644.0...</td>\n",
       "      <td>http://images.amazon.com/images/P/0525447644.0...</td>\n",
       "      <td>http://images.amazon.com/images/P/0525447644.0...</td>\n",
       "    </tr>\n",
       "    <tr>\n",
       "      <th>271376</th>\n",
       "      <td>006008667X</td>\n",
       "      <td>Lily Dale : The True Story of the Town that Ta...</td>\n",
       "      <td>Christine Wicker</td>\n",
       "      <td>2004</td>\n",
       "      <td>HarperSanFrancisco</td>\n",
       "      <td>http://images.amazon.com/images/P/006008667X.0...</td>\n",
       "      <td>http://images.amazon.com/images/P/006008667X.0...</td>\n",
       "      <td>http://images.amazon.com/images/P/006008667X.0...</td>\n",
       "    </tr>\n",
       "    <tr>\n",
       "      <th>271377</th>\n",
       "      <td>0192126040</td>\n",
       "      <td>Republic (World's Classics)</td>\n",
       "      <td>Plato</td>\n",
       "      <td>1996</td>\n",
       "      <td>Oxford University Press</td>\n",
       "      <td>http://images.amazon.com/images/P/0192126040.0...</td>\n",
       "      <td>http://images.amazon.com/images/P/0192126040.0...</td>\n",
       "      <td>http://images.amazon.com/images/P/0192126040.0...</td>\n",
       "    </tr>\n",
       "    <tr>\n",
       "      <th>271378</th>\n",
       "      <td>0767409752</td>\n",
       "      <td>A Guided Tour of Rene Descartes' Meditations o...</td>\n",
       "      <td>Christopher  Biffle</td>\n",
       "      <td>2000</td>\n",
       "      <td>McGraw-Hill Humanities/Social Sciences/Languages</td>\n",
       "      <td>http://images.amazon.com/images/P/0767409752.0...</td>\n",
       "      <td>http://images.amazon.com/images/P/0767409752.0...</td>\n",
       "      <td>http://images.amazon.com/images/P/0767409752.0...</td>\n",
       "    </tr>\n",
       "  </tbody>\n",
       "</table>\n",
       "</div>"
      ],
      "text/plain": [
       "              ISBN                                         Book-Title  \\\n",
       "271374  0440400988                         There's a Bat in Bunk Five   \n",
       "271375  0525447644                            From One to One Hundred   \n",
       "271376  006008667X  Lily Dale : The True Story of the Town that Ta...   \n",
       "271377  0192126040                        Republic (World's Classics)   \n",
       "271378  0767409752  A Guided Tour of Rene Descartes' Meditations o...   \n",
       "\n",
       "                Book-Author  Year-Of-Publication  \\\n",
       "271374       Paula Danziger                 1988   \n",
       "271375           Teri Sloat                 1991   \n",
       "271376     Christine Wicker                 2004   \n",
       "271377                Plato                 1996   \n",
       "271378  Christopher  Biffle                 2000   \n",
       "\n",
       "                                               Publisher  \\\n",
       "271374                   Random House Childrens Pub (Mm)   \n",
       "271375                                      Dutton Books   \n",
       "271376                                HarperSanFrancisco   \n",
       "271377                           Oxford University Press   \n",
       "271378  McGraw-Hill Humanities/Social Sciences/Languages   \n",
       "\n",
       "                                              Image-URL-S  \\\n",
       "271374  http://images.amazon.com/images/P/0440400988.0...   \n",
       "271375  http://images.amazon.com/images/P/0525447644.0...   \n",
       "271376  http://images.amazon.com/images/P/006008667X.0...   \n",
       "271377  http://images.amazon.com/images/P/0192126040.0...   \n",
       "271378  http://images.amazon.com/images/P/0767409752.0...   \n",
       "\n",
       "                                              Image-URL-M  \\\n",
       "271374  http://images.amazon.com/images/P/0440400988.0...   \n",
       "271375  http://images.amazon.com/images/P/0525447644.0...   \n",
       "271376  http://images.amazon.com/images/P/006008667X.0...   \n",
       "271377  http://images.amazon.com/images/P/0192126040.0...   \n",
       "271378  http://images.amazon.com/images/P/0767409752.0...   \n",
       "\n",
       "                                             Image-URL-L\"  \n",
       "271374  http://images.amazon.com/images/P/0440400988.0...  \n",
       "271375  http://images.amazon.com/images/P/0525447644.0...  \n",
       "271376  http://images.amazon.com/images/P/006008667X.0...  \n",
       "271377  http://images.amazon.com/images/P/0192126040.0...  \n",
       "271378  http://images.amazon.com/images/P/0767409752.0...  "
      ]
     },
     "execution_count": 7,
     "metadata": {},
     "output_type": "execute_result"
    }
   ],
   "source": [
    "df_books.tail()"
   ]
  },
  {
   "cell_type": "code",
   "execution_count": 8,
   "id": "3d4fef89-6c53-41f6-9d73-423ba042fcd9",
   "metadata": {},
   "outputs": [],
   "source": [
    "# ISBN and Image-URL-S and Image_URL-L are not signinficant for further analysis\n",
    "df_books.drop(['Image-URL-S','Image-URL-L\"'], axis=1, inplace=True)"
   ]
  },
  {
   "cell_type": "code",
   "execution_count": 9,
   "id": "139d101b-09fc-4793-bb0d-082026a1fe90",
   "metadata": {},
   "outputs": [
    {
     "name": "stdout",
     "output_type": "stream",
     "text": [
      "0\n"
     ]
    }
   ],
   "source": [
    "# Check if there are any duplicate values in dataset\n",
    "print(sum(df_books.duplicated()))"
   ]
  },
  {
   "cell_type": "code",
   "execution_count": 10,
   "id": "1723b302-4217-4347-9224-f30a73439f08",
   "metadata": {},
   "outputs": [
    {
     "name": "stdout",
     "output_type": "stream",
     "text": [
      "<class 'pandas.core.frame.DataFrame'>\n",
      "RangeIndex: 271379 entries, 0 to 271378\n",
      "Data columns (total 6 columns):\n",
      " #   Column               Non-Null Count   Dtype \n",
      "---  ------               --------------   ----- \n",
      " 0   ISBN                 271379 non-null  object\n",
      " 1   Book-Title           271379 non-null  object\n",
      " 2   Book-Author          271378 non-null  object\n",
      " 3   Year-Of-Publication  271379 non-null  int64 \n",
      " 4   Publisher            271377 non-null  object\n",
      " 5   Image-URL-M          271379 non-null  object\n",
      "dtypes: int64(1), object(5)\n",
      "memory usage: 12.4+ MB\n",
      "None\n"
     ]
    }
   ],
   "source": [
    "print(df_books.info())"
   ]
  },
  {
   "cell_type": "markdown",
   "id": "a77e64c3-f8b7-47a3-a6b1-05ee5bdf0d13",
   "metadata": {},
   "source": [
    "<p> As the year of publication is already an int there is no chance \"DK Publishing Inc.\" hence no need to check it and as year of publication is already an integer no need to convert it back to integer</p>"
   ]
  },
  {
   "cell_type": "code",
   "execution_count": 11,
   "id": "6c9ac0ac-27ce-4fc2-bcf1-4e22795278aa",
   "metadata": {},
   "outputs": [
    {
     "name": "stdout",
     "output_type": "stream",
     "text": [
      "           Column Name  NA Counts\n",
      "0                 ISBN          0\n",
      "1           Book-Title          0\n",
      "2          Book-Author          1\n",
      "3  Year-Of-Publication          0\n",
      "4            Publisher          2\n",
      "5          Image-URL-M          0\n"
     ]
    }
   ],
   "source": [
    "na_counts = pd.DataFrame(df_books.isna().sum(),columns=[\"NA Counts\"]).reset_index()\n",
    "na_counts = na_counts.rename(columns={'index': 'Column Name'})\n",
    "print(na_counts)"
   ]
  },
  {
   "cell_type": "code",
   "execution_count": 12,
   "id": "3dcc140a-3154-403b-b8b2-6256a2c226ea",
   "metadata": {},
   "outputs": [],
   "source": [
    "# Dropping the fields which have NA count\n",
    "df_books.dropna(inplace = True)"
   ]
  },
  {
   "cell_type": "code",
   "execution_count": 13,
   "id": "f0fdf5b9-8b5e-4a7f-9cc0-1b9b344d39a6",
   "metadata": {},
   "outputs": [
    {
     "data": {
      "text/plain": [
       "271376"
      ]
     },
     "execution_count": 13,
     "metadata": {},
     "output_type": "execute_result"
    }
   ],
   "source": [
    "len(df_books)"
   ]
  },
  {
   "cell_type": "code",
   "execution_count": 14,
   "id": "ce5c7a48-df6c-436f-863c-b52c6fde707b",
   "metadata": {},
   "outputs": [
    {
     "name": "stdout",
     "output_type": "stream",
     "text": [
      "           Column Name  NA Counts\n",
      "0                 ISBN          0\n",
      "1           Book-Title          0\n",
      "2          Book-Author          0\n",
      "3  Year-Of-Publication          0\n",
      "4            Publisher          0\n",
      "5          Image-URL-M          0\n"
     ]
    }
   ],
   "source": [
    "na_counts = pd.DataFrame(df_books.isna().sum(),columns=[\"NA Counts\"]).reset_index()\n",
    "na_counts = na_counts.rename(columns={'index': 'Column Name'})\n",
    "print(na_counts)"
   ]
  },
  {
   "cell_type": "code",
   "execution_count": 15,
   "id": "f51ef032-22e8-4c7b-bbdd-65d2881a2447",
   "metadata": {},
   "outputs": [
    {
     "name": "stdout",
     "output_type": "stream",
     "text": [
      "Book-Author:['Mark P. O. Morford' 'Richard Bruce Wright' \"Carlo D'Este\" ...\n",
      " 'David Biggs' 'Teri Sloat' 'Christopher  Biffle']\n",
      "\n",
      "Year-Of-Publication:[2002 2001 1991 1999 2000 1993 1996 1988 2004 1998 1994 2003 1997 1983\n",
      " 1979 1995 1982 1985 1992 1986 1978 1980 1952 1987 1990 1981 1989 1984\n",
      "    0 1968 1961 1958 1974 1976 1971 1977 1975 1965 1941 1970 1962 1973\n",
      " 1972 1960 1966 1920 1956 1959 1953 1951 1942 1963 1964 1969 1954 1950\n",
      " 1967 2005 1957 1940 1937 1955 1946 1936 1930 2011 1925 1948 1943 1947\n",
      " 1945 1923 2020 1939 1926 1938 2030 1911 1904 1949 1932 1928 1929 1927\n",
      " 1931 1914 2050 1934 1910 1933 1902 1924 1921 1900 2038 2026 1944 1917\n",
      " 1901 2010 1908 1906 1935 1806 2021 2012 2006 1909 2008 1378 1919 1922\n",
      " 1897 2024 1376 2037]\n",
      "\n",
      "Publisher:['Oxford University Press' 'HarperFlamingo Canada' 'HarperPerennial' ...\n",
      " 'Tempo' 'Life Works Books' 'Connaught']\n",
      "\n"
     ]
    }
   ],
   "source": [
    "# Printing unique values in datasets columns\n",
    "for column in [\"Book-Author\",\"Year-Of-Publication\",\"Publisher\"]:\n",
    "    print(f\"{column}:{df_books[column].unique()}\\n\")"
   ]
  },
  {
   "cell_type": "code",
   "execution_count": 16,
   "id": "b3b6dc48-f9a9-4c1e-ba1d-efcee511c85c",
   "metadata": {},
   "outputs": [
    {
     "data": {
      "text/html": [
       "<div>\n",
       "<style scoped>\n",
       "    .dataframe tbody tr th:only-of-type {\n",
       "        vertical-align: middle;\n",
       "    }\n",
       "\n",
       "    .dataframe tbody tr th {\n",
       "        vertical-align: top;\n",
       "    }\n",
       "\n",
       "    .dataframe thead th {\n",
       "        text-align: right;\n",
       "    }\n",
       "</style>\n",
       "<table border=\"1\" class=\"dataframe\">\n",
       "  <thead>\n",
       "    <tr style=\"text-align: right;\">\n",
       "      <th></th>\n",
       "      <th>ISBN</th>\n",
       "      <th>Book-Title</th>\n",
       "      <th>Book-Author</th>\n",
       "      <th>Year-Of-Publication</th>\n",
       "      <th>Publisher</th>\n",
       "      <th>Image-URL-M</th>\n",
       "    </tr>\n",
       "  </thead>\n",
       "  <tbody>\n",
       "    <tr>\n",
       "      <th>176</th>\n",
       "      <td>3150000335</td>\n",
       "      <td>Kabale Und Liebe</td>\n",
       "      <td>Schiller</td>\n",
       "      <td>0</td>\n",
       "      <td>Philipp Reclam, Jun Verlag GmbH</td>\n",
       "      <td>http://images.amazon.com/images/P/3150000335.0...</td>\n",
       "    </tr>\n",
       "    <tr>\n",
       "      <th>188</th>\n",
       "      <td>342311360X</td>\n",
       "      <td>Die Liebe in Den Zelten</td>\n",
       "      <td>Gabriel Garcia Marquez</td>\n",
       "      <td>0</td>\n",
       "      <td>Deutscher Taschenbuch Verlag (DTV)</td>\n",
       "      <td>http://images.amazon.com/images/P/342311360X.0...</td>\n",
       "    </tr>\n",
       "    <tr>\n",
       "      <th>288</th>\n",
       "      <td>0571197639</td>\n",
       "      <td>Poisonwood Bible Edition Uk</td>\n",
       "      <td>Barbara Kingsolver</td>\n",
       "      <td>0</td>\n",
       "      <td>Faber Faber Inc</td>\n",
       "      <td>http://images.amazon.com/images/P/0571197639.0...</td>\n",
       "    </tr>\n",
       "    <tr>\n",
       "      <th>351</th>\n",
       "      <td>3596214629</td>\n",
       "      <td>Herr Der Fliegen (Fiction, Poetry and Drama)</td>\n",
       "      <td>Golding</td>\n",
       "      <td>0</td>\n",
       "      <td>Fischer Taschenbuch Verlag GmbH</td>\n",
       "      <td>http://images.amazon.com/images/P/3596214629.0...</td>\n",
       "    </tr>\n",
       "    <tr>\n",
       "      <th>542</th>\n",
       "      <td>8845229041</td>\n",
       "      <td>Biblioteca Universale Rizzoli: Sulla Sponda De...</td>\n",
       "      <td>P Coelho</td>\n",
       "      <td>0</td>\n",
       "      <td>Fabbri - RCS Libri</td>\n",
       "      <td>http://images.amazon.com/images/P/8845229041.0...</td>\n",
       "    </tr>\n",
       "    <tr>\n",
       "      <th>...</th>\n",
       "      <td>...</td>\n",
       "      <td>...</td>\n",
       "      <td>...</td>\n",
       "      <td>...</td>\n",
       "      <td>...</td>\n",
       "      <td>...</td>\n",
       "    </tr>\n",
       "    <tr>\n",
       "      <th>270813</th>\n",
       "      <td>014029953X</td>\n",
       "      <td>Foe (Essential.penguin S.)</td>\n",
       "      <td>J.M. Coetzee</td>\n",
       "      <td>0</td>\n",
       "      <td>Penguin Books Ltd</td>\n",
       "      <td>http://images.amazon.com/images/P/014029953X.0...</td>\n",
       "    </tr>\n",
       "    <tr>\n",
       "      <th>270932</th>\n",
       "      <td>0340571187</td>\n",
       "      <td>Postmens House</td>\n",
       "      <td>Maggie Hemingway</td>\n",
       "      <td>0</td>\n",
       "      <td>Trafalgar Square</td>\n",
       "      <td>http://images.amazon.com/images/P/0340571187.0...</td>\n",
       "    </tr>\n",
       "    <tr>\n",
       "      <th>271113</th>\n",
       "      <td>8427201079</td>\n",
       "      <td>El Misterio De Sittaford</td>\n",
       "      <td>Agatha Christie</td>\n",
       "      <td>0</td>\n",
       "      <td>Editorial Molino</td>\n",
       "      <td>http://images.amazon.com/images/P/8427201079.0...</td>\n",
       "    </tr>\n",
       "    <tr>\n",
       "      <th>271201</th>\n",
       "      <td>0887781721</td>\n",
       "      <td>Tom Penny</td>\n",
       "      <td>Tony German</td>\n",
       "      <td>0</td>\n",
       "      <td>P. Martin Associates</td>\n",
       "      <td>http://images.amazon.com/images/P/0887781721.0...</td>\n",
       "    </tr>\n",
       "    <tr>\n",
       "      <th>271215</th>\n",
       "      <td>3150013763</td>\n",
       "      <td>Der Hofmeister</td>\n",
       "      <td>Jakob Lenz</td>\n",
       "      <td>0</td>\n",
       "      <td>Philipp Reclam, Jun Verlag GmbH</td>\n",
       "      <td>http://images.amazon.com/images/P/3150013763.0...</td>\n",
       "    </tr>\n",
       "  </tbody>\n",
       "</table>\n",
       "<p>4619 rows × 6 columns</p>\n",
       "</div>"
      ],
      "text/plain": [
       "              ISBN                                         Book-Title  \\\n",
       "176     3150000335                                   Kabale Und Liebe   \n",
       "188     342311360X                            Die Liebe in Den Zelten   \n",
       "288     0571197639                        Poisonwood Bible Edition Uk   \n",
       "351     3596214629       Herr Der Fliegen (Fiction, Poetry and Drama)   \n",
       "542     8845229041  Biblioteca Universale Rizzoli: Sulla Sponda De...   \n",
       "...            ...                                                ...   \n",
       "270813  014029953X                         Foe (Essential.penguin S.)   \n",
       "270932  0340571187                                     Postmens House   \n",
       "271113  8427201079                           El Misterio De Sittaford   \n",
       "271201  0887781721                                          Tom Penny   \n",
       "271215  3150013763                                     Der Hofmeister   \n",
       "\n",
       "                   Book-Author  Year-Of-Publication  \\\n",
       "176                   Schiller                    0   \n",
       "188     Gabriel Garcia Marquez                    0   \n",
       "288         Barbara Kingsolver                    0   \n",
       "351                    Golding                    0   \n",
       "542                   P Coelho                    0   \n",
       "...                        ...                  ...   \n",
       "270813            J.M. Coetzee                    0   \n",
       "270932        Maggie Hemingway                    0   \n",
       "271113         Agatha Christie                    0   \n",
       "271201             Tony German                    0   \n",
       "271215              Jakob Lenz                    0   \n",
       "\n",
       "                                 Publisher  \\\n",
       "176        Philipp Reclam, Jun Verlag GmbH   \n",
       "188     Deutscher Taschenbuch Verlag (DTV)   \n",
       "288                        Faber Faber Inc   \n",
       "351        Fischer Taschenbuch Verlag GmbH   \n",
       "542                     Fabbri - RCS Libri   \n",
       "...                                    ...   \n",
       "270813                   Penguin Books Ltd   \n",
       "270932                    Trafalgar Square   \n",
       "271113                    Editorial Molino   \n",
       "271201                P. Martin Associates   \n",
       "271215     Philipp Reclam, Jun Verlag GmbH   \n",
       "\n",
       "                                              Image-URL-M  \n",
       "176     http://images.amazon.com/images/P/3150000335.0...  \n",
       "188     http://images.amazon.com/images/P/342311360X.0...  \n",
       "288     http://images.amazon.com/images/P/0571197639.0...  \n",
       "351     http://images.amazon.com/images/P/3596214629.0...  \n",
       "542     http://images.amazon.com/images/P/8845229041.0...  \n",
       "...                                                   ...  \n",
       "270813  http://images.amazon.com/images/P/014029953X.0...  \n",
       "270932  http://images.amazon.com/images/P/0340571187.0...  \n",
       "271113  http://images.amazon.com/images/P/8427201079.0...  \n",
       "271201  http://images.amazon.com/images/P/0887781721.0...  \n",
       "271215  http://images.amazon.com/images/P/3150013763.0...  \n",
       "\n",
       "[4619 rows x 6 columns]"
      ]
     },
     "execution_count": 16,
     "metadata": {},
     "output_type": "execute_result"
    }
   ],
   "source": [
    "# Finding the books with publication year 0 and before 1900\n",
    "df_books[df_books[\"Year-Of-Publication\"] == 0]"
   ]
  },
  {
   "cell_type": "code",
   "execution_count": 17,
   "id": "73c662d7-50d5-4072-ad97-93c693ea65b5",
   "metadata": {},
   "outputs": [
    {
     "data": {
      "text/html": [
       "<div>\n",
       "<style scoped>\n",
       "    .dataframe tbody tr th:only-of-type {\n",
       "        vertical-align: middle;\n",
       "    }\n",
       "\n",
       "    .dataframe tbody tr th {\n",
       "        vertical-align: top;\n",
       "    }\n",
       "\n",
       "    .dataframe thead th {\n",
       "        text-align: right;\n",
       "    }\n",
       "</style>\n",
       "<table border=\"1\" class=\"dataframe\">\n",
       "  <thead>\n",
       "    <tr style=\"text-align: right;\">\n",
       "      <th></th>\n",
       "      <th>ISBN</th>\n",
       "      <th>Book-Title</th>\n",
       "      <th>Book-Author</th>\n",
       "      <th>Year-Of-Publication</th>\n",
       "      <th>Publisher</th>\n",
       "      <th>Image-URL-M</th>\n",
       "    </tr>\n",
       "  </thead>\n",
       "  <tbody>\n",
       "    <tr>\n",
       "      <th>37488</th>\n",
       "      <td>0671746103</td>\n",
       "      <td>MY TEACHER FRIED MY BRAINS (RACK SIZE) (MY TEA...</td>\n",
       "      <td>Coville</td>\n",
       "      <td>2030</td>\n",
       "      <td>Aladdin</td>\n",
       "      <td>http://images.amazon.com/images/P/0671746103.0...</td>\n",
       "    </tr>\n",
       "    <tr>\n",
       "      <th>55679</th>\n",
       "      <td>0671791990</td>\n",
       "      <td>MY TEACHER FLUNKED THE PLANET (RACK SIZE) (MY ...</td>\n",
       "      <td>Bruce Coville</td>\n",
       "      <td>2030</td>\n",
       "      <td>Aladdin</td>\n",
       "      <td>http://images.amazon.com/images/P/0671791990.0...</td>\n",
       "    </tr>\n",
       "    <tr>\n",
       "      <th>78171</th>\n",
       "      <td>0870449842</td>\n",
       "      <td>Crossing America</td>\n",
       "      <td>National Geographic Society</td>\n",
       "      <td>2030</td>\n",
       "      <td>National Geographic</td>\n",
       "      <td>http://images.amazon.com/images/P/0870449842.0...</td>\n",
       "    </tr>\n",
       "    <tr>\n",
       "      <th>80267</th>\n",
       "      <td>0140301690</td>\n",
       "      <td>Alice's Adventures in Wonderland and Through t...</td>\n",
       "      <td>Lewis Carroll</td>\n",
       "      <td>2050</td>\n",
       "      <td>Puffin Books</td>\n",
       "      <td>http://images.amazon.com/images/P/0140301690.0...</td>\n",
       "    </tr>\n",
       "    <tr>\n",
       "      <th>97830</th>\n",
       "      <td>0140201092</td>\n",
       "      <td>Outline of European Architecture (Pelican S.)</td>\n",
       "      <td>Nikolaus Pevsner</td>\n",
       "      <td>2050</td>\n",
       "      <td>Penguin USA</td>\n",
       "      <td>http://images.amazon.com/images/P/0140201092.0...</td>\n",
       "    </tr>\n",
       "    <tr>\n",
       "      <th>116058</th>\n",
       "      <td>0394701658</td>\n",
       "      <td>Three Plays of Eugene Oneill</td>\n",
       "      <td>Eugene O'Neill</td>\n",
       "      <td>2038</td>\n",
       "      <td>Vintage Books USA</td>\n",
       "      <td>http://images.amazon.com/images/P/0394701658.0...</td>\n",
       "    </tr>\n",
       "    <tr>\n",
       "      <th>118299</th>\n",
       "      <td>3442436893</td>\n",
       "      <td>Das groÃ?Â?e BÃ?Â¶se- MÃ?Â¤dchen- Lesebuch.</td>\n",
       "      <td>Kathy Lette</td>\n",
       "      <td>2026</td>\n",
       "      <td>Goldmann</td>\n",
       "      <td>http://images.amazon.com/images/P/3442436893.0...</td>\n",
       "    </tr>\n",
       "    <tr>\n",
       "      <th>193004</th>\n",
       "      <td>0870446924</td>\n",
       "      <td>Field Guide to the Birds of North America, 3rd...</td>\n",
       "      <td>National Geographic Society</td>\n",
       "      <td>2030</td>\n",
       "      <td>National Geographic</td>\n",
       "      <td>http://images.amazon.com/images/P/0870446924.0...</td>\n",
       "    </tr>\n",
       "    <tr>\n",
       "      <th>228187</th>\n",
       "      <td>0671266500</td>\n",
       "      <td>FOREST PEOPLE (Touchstone Books (Hardcover))</td>\n",
       "      <td>Colin M. Turnbull</td>\n",
       "      <td>2030</td>\n",
       "      <td>Simon &amp;amp; Schuster</td>\n",
       "      <td>http://images.amazon.com/images/P/0671266500.0...</td>\n",
       "    </tr>\n",
       "    <tr>\n",
       "      <th>240184</th>\n",
       "      <td>0684718022</td>\n",
       "      <td>In Our Time: Stories (Scribner Classic)</td>\n",
       "      <td>Ernest Hemingway</td>\n",
       "      <td>2030</td>\n",
       "      <td>Collier Books</td>\n",
       "      <td>http://images.amazon.com/images/P/0684718022.0...</td>\n",
       "    </tr>\n",
       "    <tr>\n",
       "      <th>255426</th>\n",
       "      <td>068471809X</td>\n",
       "      <td>To Have and Have Not</td>\n",
       "      <td>Ernest Hemingway</td>\n",
       "      <td>2037</td>\n",
       "      <td>Simon &amp;amp; Schuster</td>\n",
       "      <td>http://images.amazon.com/images/P/068471809X.0...</td>\n",
       "    </tr>\n",
       "    <tr>\n",
       "      <th>260992</th>\n",
       "      <td>0671740989</td>\n",
       "      <td>FOOTBALL SUPER TEAMS : FOOTBALL SUPER TEAMS</td>\n",
       "      <td>Bill Gutman</td>\n",
       "      <td>2030</td>\n",
       "      <td>Simon &amp;amp; Schuster Children's Publishing</td>\n",
       "      <td>http://images.amazon.com/images/P/0671740989.0...</td>\n",
       "    </tr>\n",
       "  </tbody>\n",
       "</table>\n",
       "</div>"
      ],
      "text/plain": [
       "              ISBN                                         Book-Title  \\\n",
       "37488   0671746103  MY TEACHER FRIED MY BRAINS (RACK SIZE) (MY TEA...   \n",
       "55679   0671791990  MY TEACHER FLUNKED THE PLANET (RACK SIZE) (MY ...   \n",
       "78171   0870449842                                   Crossing America   \n",
       "80267   0140301690  Alice's Adventures in Wonderland and Through t...   \n",
       "97830   0140201092      Outline of European Architecture (Pelican S.)   \n",
       "116058  0394701658                       Three Plays of Eugene Oneill   \n",
       "118299  3442436893        Das groÃ?Â?e BÃ?Â¶se- MÃ?Â¤dchen- Lesebuch.   \n",
       "193004  0870446924  Field Guide to the Birds of North America, 3rd...   \n",
       "228187  0671266500       FOREST PEOPLE (Touchstone Books (Hardcover))   \n",
       "240184  0684718022            In Our Time: Stories (Scribner Classic)   \n",
       "255426  068471809X                               To Have and Have Not   \n",
       "260992  0671740989        FOOTBALL SUPER TEAMS : FOOTBALL SUPER TEAMS   \n",
       "\n",
       "                        Book-Author  Year-Of-Publication  \\\n",
       "37488                       Coville                 2030   \n",
       "55679                 Bruce Coville                 2030   \n",
       "78171   National Geographic Society                 2030   \n",
       "80267                 Lewis Carroll                 2050   \n",
       "97830              Nikolaus Pevsner                 2050   \n",
       "116058               Eugene O'Neill                 2038   \n",
       "118299                  Kathy Lette                 2026   \n",
       "193004  National Geographic Society                 2030   \n",
       "228187            Colin M. Turnbull                 2030   \n",
       "240184             Ernest Hemingway                 2030   \n",
       "255426             Ernest Hemingway                 2037   \n",
       "260992                  Bill Gutman                 2030   \n",
       "\n",
       "                                         Publisher  \\\n",
       "37488                                      Aladdin   \n",
       "55679                                      Aladdin   \n",
       "78171                          National Geographic   \n",
       "80267                                 Puffin Books   \n",
       "97830                                  Penguin USA   \n",
       "116058                           Vintage Books USA   \n",
       "118299                                    Goldmann   \n",
       "193004                         National Geographic   \n",
       "228187                        Simon &amp; Schuster   \n",
       "240184                               Collier Books   \n",
       "255426                        Simon &amp; Schuster   \n",
       "260992  Simon &amp; Schuster Children's Publishing   \n",
       "\n",
       "                                              Image-URL-M  \n",
       "37488   http://images.amazon.com/images/P/0671746103.0...  \n",
       "55679   http://images.amazon.com/images/P/0671791990.0...  \n",
       "78171   http://images.amazon.com/images/P/0870449842.0...  \n",
       "80267   http://images.amazon.com/images/P/0140301690.0...  \n",
       "97830   http://images.amazon.com/images/P/0140201092.0...  \n",
       "116058  http://images.amazon.com/images/P/0394701658.0...  \n",
       "118299  http://images.amazon.com/images/P/3442436893.0...  \n",
       "193004  http://images.amazon.com/images/P/0870446924.0...  \n",
       "228187  http://images.amazon.com/images/P/0671266500.0...  \n",
       "240184  http://images.amazon.com/images/P/0684718022.0...  \n",
       "255426  http://images.amazon.com/images/P/068471809X.0...  \n",
       "260992  http://images.amazon.com/images/P/0671740989.0...  "
      ]
     },
     "execution_count": 17,
     "metadata": {},
     "output_type": "execute_result"
    }
   ],
   "source": [
    "# Finding the books with publication year > current year \n",
    "current_year = datetime.now().year\n",
    "df_books[df_books[\"Year-Of-Publication\"]>current_year]"
   ]
  },
  {
   "cell_type": "code",
   "execution_count": 18,
   "id": "1771abd0-575a-40dc-9bf7-183c829b2ff2",
   "metadata": {},
   "outputs": [
    {
     "name": "stdout",
     "output_type": "stream",
     "text": [
      "4631\n"
     ]
    }
   ],
   "source": [
    "# The dataset cannot have books published after current year hence making them 0\n",
    "df_books.loc[df_books[\"Year-Of-Publication\"]>current_year, \"Year-Of-Publication\"] = 0\n",
    "print(len(df_books[df_books[\"Year-Of-Publication\"] == 0]))"
   ]
  },
  {
   "cell_type": "code",
   "execution_count": 19,
   "id": "3a4b3f48-af0e-4f70-8de9-1d45b6a2c72b",
   "metadata": {},
   "outputs": [
    {
     "name": "stdout",
     "output_type": "stream",
     "text": [
      "Agatha Christie        632\n",
      "William Shakespeare    567\n",
      "Stephen King           524\n",
      "Ann M. Martin          423\n",
      "Francine Pascal        373\n",
      "                      ... \n",
      "Jean Cassels             1\n",
      "Bernice Meyers           1\n",
      "Mark A. Taylor           1\n",
      "Ellery R. Sheets         1\n",
      "Christopher  Biffle      1\n",
      "Name: Book-Author, Length: 102026, dtype: int64\n",
      "Agatha Christie        0.002329\n",
      "William Shakespeare    0.002089\n",
      "Stephen King           0.001931\n",
      "Ann M. Martin          0.001559\n",
      "Francine Pascal        0.001374\n",
      "                         ...   \n",
      "Jean Cassels           0.000004\n",
      "Bernice Meyers         0.000004\n",
      "Mark A. Taylor         0.000004\n",
      "Ellery R. Sheets       0.000004\n",
      "Christopher  Biffle    0.000004\n",
      "Name: Book-Author, Length: 102026, dtype: float64\n",
      "\n",
      "2002    17627\n",
      "1999    17432\n",
      "2001    17359\n",
      "2000    17235\n",
      "1998    15767\n",
      "        ...  \n",
      "1917        1\n",
      "1910        1\n",
      "1914        1\n",
      "1904        1\n",
      "1376        1\n",
      "Name: Year-Of-Publication, Length: 111, dtype: int64\n",
      "2002    0.064954\n",
      "1999    0.064236\n",
      "2001    0.063967\n",
      "2000    0.063510\n",
      "1998    0.058100\n",
      "          ...   \n",
      "1917    0.000004\n",
      "1910    0.000004\n",
      "1914    0.000004\n",
      "1904    0.000004\n",
      "1376    0.000004\n",
      "Name: Year-Of-Publication, Length: 111, dtype: float64\n",
      "\n",
      "Harlequin                  7536\n",
      "Silhouette                 4220\n",
      "Pocket                     3905\n",
      "Ballantine Books           3783\n",
      "Bantam Books               3647\n",
      "                           ... \n",
      "Polaris Books                 1\n",
      "Hannover House                1\n",
      "Amber Quill Press, LLC.       1\n",
      "Lunchbox Press                1\n",
      "Connaught                     1\n",
      "Name: Publisher, Length: 16805, dtype: int64\n",
      "Harlequin                  0.027770\n",
      "Silhouette                 0.015550\n",
      "Pocket                     0.014390\n",
      "Ballantine Books           0.013940\n",
      "Bantam Books               0.013439\n",
      "                             ...   \n",
      "Polaris Books              0.000004\n",
      "Hannover House             0.000004\n",
      "Amber Quill Press, LLC.    0.000004\n",
      "Lunchbox Press             0.000004\n",
      "Connaught                  0.000004\n",
      "Name: Publisher, Length: 16805, dtype: float64\n",
      "\n"
     ]
    }
   ],
   "source": [
    "#Printing unique values in dataset columns\n",
    "for column in [\"Book-Author\",\"Year-Of-Publication\",\"Publisher\"]:\n",
    "    print(f\"{df_books[column].value_counts()}\\n{df_books[column].value_counts(normalize=True)}\\n\")"
   ]
  },
  {
   "cell_type": "markdown",
   "id": "6f12b43e-48c4-4dfc-bd98-d5c7313e4df5",
   "metadata": {},
   "source": [
    "<h2>Ratings</h2>"
   ]
  },
  {
   "cell_type": "code",
   "execution_count": 20,
   "id": "1f46f021-ba04-434c-a244-db0c59eacb1a",
   "metadata": {},
   "outputs": [],
   "source": [
    "# Regex pattern: match semicolons not preceded by '&amp'\n",
    "pattern = r'\\\";\\\"'\n",
    "\n",
    "\n",
    "# Custom function to handle bad lines\n",
    "def log_bad_lines(bad_line):\n",
    "    print(f\"Bad line: {bad_line}\")\n",
    "    return None  # Return None to skip the line\n",
    "\n",
    "df_ratings = pd.read_csv('ratings-1.csv', delimiter=pattern, engine='python', encoding='ISO-8859-1', on_bad_lines=log_bad_lines, skipinitialspace=True)"
   ]
  },
  {
   "cell_type": "code",
   "execution_count": 21,
   "id": "02468061-d67a-4a8b-96fa-9c86c86764e1",
   "metadata": {},
   "outputs": [
    {
     "data": {
      "text/plain": [
       "1149780"
      ]
     },
     "execution_count": 21,
     "metadata": {},
     "output_type": "execute_result"
    }
   ],
   "source": [
    "len(df_ratings)"
   ]
  },
  {
   "cell_type": "code",
   "execution_count": 22,
   "id": "d0042f85-1d45-4b31-811b-73080311eac3",
   "metadata": {},
   "outputs": [],
   "source": [
    "df_ratings.columns = df_ratings.columns.str.lstrip('\"')\n",
    "df_ratings.columns = df_ratings.columns.str.rstrip('\"')\n",
    "df_ratings['User-ID'] = df_ratings['User-ID'].str.lstrip('\"')\n",
    "df_ratings['Book-Rating'] = df_ratings['Book-Rating'].str.rstrip('\"')"
   ]
  },
  {
   "cell_type": "code",
   "execution_count": 23,
   "id": "b79767a1-0718-4f05-aa22-c37b88efeb1f",
   "metadata": {},
   "outputs": [
    {
     "data": {
      "text/html": [
       "<div>\n",
       "<style scoped>\n",
       "    .dataframe tbody tr th:only-of-type {\n",
       "        vertical-align: middle;\n",
       "    }\n",
       "\n",
       "    .dataframe tbody tr th {\n",
       "        vertical-align: top;\n",
       "    }\n",
       "\n",
       "    .dataframe thead th {\n",
       "        text-align: right;\n",
       "    }\n",
       "</style>\n",
       "<table border=\"1\" class=\"dataframe\">\n",
       "  <thead>\n",
       "    <tr style=\"text-align: right;\">\n",
       "      <th></th>\n",
       "      <th>User-ID</th>\n",
       "      <th>ISBN</th>\n",
       "      <th>Book-Rating</th>\n",
       "    </tr>\n",
       "  </thead>\n",
       "  <tbody>\n",
       "    <tr>\n",
       "      <th>0</th>\n",
       "      <td>276725</td>\n",
       "      <td>034545104X</td>\n",
       "      <td>0</td>\n",
       "    </tr>\n",
       "    <tr>\n",
       "      <th>1</th>\n",
       "      <td>276726</td>\n",
       "      <td>0155061224</td>\n",
       "      <td>5</td>\n",
       "    </tr>\n",
       "    <tr>\n",
       "      <th>2</th>\n",
       "      <td>276727</td>\n",
       "      <td>0446520802</td>\n",
       "      <td>0</td>\n",
       "    </tr>\n",
       "    <tr>\n",
       "      <th>3</th>\n",
       "      <td>276729</td>\n",
       "      <td>052165615X</td>\n",
       "      <td>3</td>\n",
       "    </tr>\n",
       "    <tr>\n",
       "      <th>4</th>\n",
       "      <td>276729</td>\n",
       "      <td>0521795028</td>\n",
       "      <td>6</td>\n",
       "    </tr>\n",
       "  </tbody>\n",
       "</table>\n",
       "</div>"
      ],
      "text/plain": [
       "  User-ID        ISBN Book-Rating\n",
       "0  276725  034545104X           0\n",
       "1  276726  0155061224           5\n",
       "2  276727  0446520802           0\n",
       "3  276729  052165615X           3\n",
       "4  276729  0521795028           6"
      ]
     },
     "execution_count": 23,
     "metadata": {},
     "output_type": "execute_result"
    }
   ],
   "source": [
    "df_ratings.head()"
   ]
  },
  {
   "cell_type": "code",
   "execution_count": 24,
   "id": "aa54fdfe-386c-4aad-baa7-c5e186a21a41",
   "metadata": {},
   "outputs": [
    {
     "data": {
      "text/html": [
       "<div>\n",
       "<style scoped>\n",
       "    .dataframe tbody tr th:only-of-type {\n",
       "        vertical-align: middle;\n",
       "    }\n",
       "\n",
       "    .dataframe tbody tr th {\n",
       "        vertical-align: top;\n",
       "    }\n",
       "\n",
       "    .dataframe thead th {\n",
       "        text-align: right;\n",
       "    }\n",
       "</style>\n",
       "<table border=\"1\" class=\"dataframe\">\n",
       "  <thead>\n",
       "    <tr style=\"text-align: right;\">\n",
       "      <th></th>\n",
       "      <th>User-ID</th>\n",
       "      <th>ISBN</th>\n",
       "      <th>Book-Rating</th>\n",
       "    </tr>\n",
       "  </thead>\n",
       "  <tbody>\n",
       "    <tr>\n",
       "      <th>1149775</th>\n",
       "      <td>276704</td>\n",
       "      <td>1563526298</td>\n",
       "      <td>9</td>\n",
       "    </tr>\n",
       "    <tr>\n",
       "      <th>1149776</th>\n",
       "      <td>276706</td>\n",
       "      <td>0679447156</td>\n",
       "      <td>0</td>\n",
       "    </tr>\n",
       "    <tr>\n",
       "      <th>1149777</th>\n",
       "      <td>276709</td>\n",
       "      <td>0515107662</td>\n",
       "      <td>10</td>\n",
       "    </tr>\n",
       "    <tr>\n",
       "      <th>1149778</th>\n",
       "      <td>276721</td>\n",
       "      <td>0590442449</td>\n",
       "      <td>10</td>\n",
       "    </tr>\n",
       "    <tr>\n",
       "      <th>1149779</th>\n",
       "      <td>276723</td>\n",
       "      <td>05162443314</td>\n",
       "      <td>8</td>\n",
       "    </tr>\n",
       "  </tbody>\n",
       "</table>\n",
       "</div>"
      ],
      "text/plain": [
       "        User-ID         ISBN Book-Rating\n",
       "1149775  276704   1563526298           9\n",
       "1149776  276706   0679447156           0\n",
       "1149777  276709   0515107662          10\n",
       "1149778  276721   0590442449          10\n",
       "1149779  276723  05162443314           8"
      ]
     },
     "execution_count": 24,
     "metadata": {},
     "output_type": "execute_result"
    }
   ],
   "source": [
    "df_ratings.tail()"
   ]
  },
  {
   "cell_type": "code",
   "execution_count": 25,
   "id": "cb1a2060-b804-4285-8ead-dbf6c785fbe8",
   "metadata": {},
   "outputs": [
    {
     "name": "stdout",
     "output_type": "stream",
     "text": [
      "0\n"
     ]
    }
   ],
   "source": [
    "# Check if there are any duplicate values in dataset\n",
    "print(sum(df_ratings.duplicated()))"
   ]
  },
  {
   "cell_type": "code",
   "execution_count": 26,
   "id": "85e266ab-671a-461f-a56d-203afe297c53",
   "metadata": {},
   "outputs": [
    {
     "name": "stdout",
     "output_type": "stream",
     "text": [
      "<class 'pandas.core.frame.DataFrame'>\n",
      "RangeIndex: 1149780 entries, 0 to 1149779\n",
      "Data columns (total 3 columns):\n",
      " #   Column       Non-Null Count    Dtype \n",
      "---  ------       --------------    ----- \n",
      " 0   User-ID      1149780 non-null  object\n",
      " 1   ISBN         1149780 non-null  object\n",
      " 2   Book-Rating  1149780 non-null  object\n",
      "dtypes: object(3)\n",
      "memory usage: 26.3+ MB\n",
      "None\n"
     ]
    }
   ],
   "source": [
    "print(df_ratings.info())"
   ]
  },
  {
   "cell_type": "code",
   "execution_count": 27,
   "id": "b02236f3-01f7-44fa-8ded-60cc2c958242",
   "metadata": {},
   "outputs": [
    {
     "name": "stdout",
     "output_type": "stream",
     "text": [
      "   Column Name  NA Counts\n",
      "0      User-ID          0\n",
      "1         ISBN          0\n",
      "2  Book-Rating          0\n"
     ]
    }
   ],
   "source": [
    "# There are no nulls but additional check\n",
    "na_counts = pd.DataFrame(df_ratings.isna().sum(),columns=[\"NA Counts\"]).reset_index()\n",
    "na_counts = na_counts.rename(columns={'index': 'Column Name'})\n",
    "print(na_counts)"
   ]
  },
  {
   "cell_type": "code",
   "execution_count": 28,
   "id": "a0ead523-b231-41ed-a7a1-35683be480f6",
   "metadata": {},
   "outputs": [
    {
     "name": "stdout",
     "output_type": "stream",
     "text": [
      "User-ID:['276725' '276726' '276727' ... '276709' '276721' '276723']\n",
      "\n",
      "ISBN:['034545104X' '0155061224' '0446520802' ... '0679752714' '0806917695'\n",
      " '05162443314']\n",
      "\n",
      "Book-Rating:['0' '5' '3' '6' '8' '7' '10' '9' '4' '1' '2']\n",
      "\n"
     ]
    }
   ],
   "source": [
    "# Printing unique values in datasets columns\n",
    "for column in df_ratings.columns:\n",
    "    print(f\"{column}:{df_ratings[column].unique()}\\n\")"
   ]
  },
  {
   "cell_type": "code",
   "execution_count": 29,
   "id": "8b45e752-0875-405d-a085-c9feebfd03b6",
   "metadata": {},
   "outputs": [
    {
     "name": "stdout",
     "output_type": "stream",
     "text": [
      "11676     13602\n",
      "198711     7550\n",
      "153662     6109\n",
      "98391      5891\n",
      "35859      5850\n",
      "          ...  \n",
      "116180        1\n",
      "116166        1\n",
      "116154        1\n",
      "116137        1\n",
      "276723        1\n",
      "Name: User-ID, Length: 105283, dtype: int64\n",
      "11676     1.183009e-02\n",
      "198711    6.566474e-03\n",
      "153662    5.313190e-03\n",
      "98391     5.123589e-03\n",
      "35859     5.087930e-03\n",
      "              ...     \n",
      "116180    8.697316e-07\n",
      "116166    8.697316e-07\n",
      "116154    8.697316e-07\n",
      "116137    8.697316e-07\n",
      "276723    8.697316e-07\n",
      "Name: User-ID, Length: 105283, dtype: float64\n",
      "mean is 10.920851419507423 \n",
      "median is 1.0 \n",
      "\n",
      "0971880107     2502\n",
      "0316666343     1295\n",
      "0385504209      883\n",
      "0060928336      732\n",
      "0312195516      723\n",
      "               ... \n",
      "1568656386        1\n",
      "1568656408        1\n",
      "1569551553        1\n",
      "1570081808        1\n",
      "05162443314       1\n",
      "Name: ISBN, Length: 340556, dtype: int64\n",
      "0971880107     2.176068e-03\n",
      "0316666343     1.126302e-03\n",
      "0385504209     7.679730e-04\n",
      "0060928336     6.366435e-04\n",
      "0312195516     6.288159e-04\n",
      "                   ...     \n",
      "1568656386     8.697316e-07\n",
      "1568656408     8.697316e-07\n",
      "1569551553     8.697316e-07\n",
      "1570081808     8.697316e-07\n",
      "05162443314    8.697316e-07\n",
      "Name: ISBN, Length: 340556, dtype: float64\n",
      "mean is 3.376184827164989 \n",
      "median is 1.0 \n",
      "\n",
      "0     716109\n",
      "8     103736\n",
      "10     78610\n",
      "7      76457\n",
      "9      67541\n",
      "5      50974\n",
      "6      36924\n",
      "4       8904\n",
      "3       5996\n",
      "2       2759\n",
      "1       1770\n",
      "Name: Book-Rating, dtype: int64\n",
      "0     0.622823\n",
      "8     0.090222\n",
      "10    0.068370\n",
      "7     0.066497\n",
      "9     0.058743\n",
      "5     0.044334\n",
      "6     0.032114\n",
      "4     0.007744\n",
      "3     0.005215\n",
      "2     0.002400\n",
      "1     0.001539\n",
      "Name: Book-Rating, dtype: float64\n",
      "mean is 104525.45454545454 \n",
      "median is 50974.0 \n",
      "\n"
     ]
    }
   ],
   "source": [
    "#Printing unique values in dataset columns\n",
    "for column in df_ratings.columns:\n",
    "    print(f\"{df_ratings[column].value_counts()}\\n{df_ratings[column].value_counts(normalize=True)}\\n\\\n",
    "mean is {df_ratings[column].value_counts().mean()} \\n\\\n",
    "median is {df_ratings[column].value_counts().median()} \\n\")"
   ]
  },
  {
   "cell_type": "code",
   "execution_count": 30,
   "id": "bbd136c4-4a9e-4aa6-89f4-6ae832efc407",
   "metadata": {},
   "outputs": [
    {
     "data": {
      "text/html": [
       "<div>\n",
       "<style scoped>\n",
       "    .dataframe tbody tr th:only-of-type {\n",
       "        vertical-align: middle;\n",
       "    }\n",
       "\n",
       "    .dataframe tbody tr th {\n",
       "        vertical-align: top;\n",
       "    }\n",
       "\n",
       "    .dataframe thead th {\n",
       "        text-align: right;\n",
       "    }\n",
       "</style>\n",
       "<table border=\"1\" class=\"dataframe\">\n",
       "  <thead>\n",
       "    <tr style=\"text-align: right;\">\n",
       "      <th></th>\n",
       "      <th>Book-Rating</th>\n",
       "    </tr>\n",
       "  </thead>\n",
       "  <tbody>\n",
       "    <tr>\n",
       "      <th>count</th>\n",
       "      <td>1.149780e+06</td>\n",
       "    </tr>\n",
       "    <tr>\n",
       "      <th>mean</th>\n",
       "      <td>2.866950e+00</td>\n",
       "    </tr>\n",
       "    <tr>\n",
       "      <th>std</th>\n",
       "      <td>3.854184e+00</td>\n",
       "    </tr>\n",
       "    <tr>\n",
       "      <th>min</th>\n",
       "      <td>0.000000e+00</td>\n",
       "    </tr>\n",
       "    <tr>\n",
       "      <th>25%</th>\n",
       "      <td>0.000000e+00</td>\n",
       "    </tr>\n",
       "    <tr>\n",
       "      <th>50%</th>\n",
       "      <td>0.000000e+00</td>\n",
       "    </tr>\n",
       "    <tr>\n",
       "      <th>75%</th>\n",
       "      <td>7.000000e+00</td>\n",
       "    </tr>\n",
       "    <tr>\n",
       "      <th>max</th>\n",
       "      <td>1.000000e+01</td>\n",
       "    </tr>\n",
       "  </tbody>\n",
       "</table>\n",
       "</div>"
      ],
      "text/plain": [
       "        Book-Rating\n",
       "count  1.149780e+06\n",
       "mean   2.866950e+00\n",
       "std    3.854184e+00\n",
       "min    0.000000e+00\n",
       "25%    0.000000e+00\n",
       "50%    0.000000e+00\n",
       "75%    7.000000e+00\n",
       "max    1.000000e+01"
      ]
     },
     "execution_count": 30,
     "metadata": {},
     "output_type": "execute_result"
    }
   ],
   "source": [
    "# Convert 'age' column to int type\n",
    "df_ratings['Book-Rating'] = df_ratings['Book-Rating'].astype(int)\n",
    "df_ratings.describe()"
   ]
  },
  {
   "cell_type": "markdown",
   "id": "f28b13ac-c5d5-4822-b47d-21ab5fe29237",
   "metadata": {},
   "source": [
    "<h2> Users</h2>"
   ]
  },
  {
   "cell_type": "code",
   "execution_count": 31,
   "id": "d604151e-1593-430f-b59b-7fd95421f826",
   "metadata": {},
   "outputs": [],
   "source": [
    "# Regex pattern: match semicolons not preceded by '&amp'\n",
    "pattern = r'\\\";\\\"|\\\";NULL'\n",
    "\n",
    "\n",
    "# Custom function to handle bad lines\n",
    "def log_bad_lines(bad_line):\n",
    "    print(f\"Bad line: {bad_line}\")\n",
    "    return None  # Return None to skip the line\n",
    "\n",
    "df_users = pd.read_csv('users-1.csv', delimiter=pattern, engine='python', encoding='ISO-8859-1', on_bad_lines=log_bad_lines, skipinitialspace=True)"
   ]
  },
  {
   "cell_type": "code",
   "execution_count": 32,
   "id": "c8ac73c5-b17e-4717-ae62-5068a2181311",
   "metadata": {},
   "outputs": [
    {
     "data": {
      "text/plain": [
       "278859"
      ]
     },
     "execution_count": 32,
     "metadata": {},
     "output_type": "execute_result"
    }
   ],
   "source": [
    "len(df_users)"
   ]
  },
  {
   "cell_type": "code",
   "execution_count": 33,
   "id": "05bdf1f7-e4a2-4578-b31e-bd249905ff33",
   "metadata": {},
   "outputs": [],
   "source": [
    "df_users.columns = df_users.columns.str.lstrip('\"')\n",
    "df_users.columns = df_users.columns.str.rstrip('\"')\n",
    "df_users['User-ID'] = df_users['User-ID'].str.lstrip('\"')\n",
    "df_users['Age'] = df_users['Age'].str.rstrip('\"')"
   ]
  },
  {
   "cell_type": "code",
   "execution_count": 34,
   "id": "06002b47-6ec0-4651-bbde-9dad7922890f",
   "metadata": {},
   "outputs": [
    {
     "data": {
      "text/html": [
       "<div>\n",
       "<style scoped>\n",
       "    .dataframe tbody tr th:only-of-type {\n",
       "        vertical-align: middle;\n",
       "    }\n",
       "\n",
       "    .dataframe tbody tr th {\n",
       "        vertical-align: top;\n",
       "    }\n",
       "\n",
       "    .dataframe thead th {\n",
       "        text-align: right;\n",
       "    }\n",
       "</style>\n",
       "<table border=\"1\" class=\"dataframe\">\n",
       "  <thead>\n",
       "    <tr style=\"text-align: right;\">\n",
       "      <th></th>\n",
       "      <th>User-ID</th>\n",
       "      <th>Location</th>\n",
       "      <th>Age</th>\n",
       "    </tr>\n",
       "  </thead>\n",
       "  <tbody>\n",
       "    <tr>\n",
       "      <th>0</th>\n",
       "      <td>1</td>\n",
       "      <td>nyc, new york, usa</td>\n",
       "      <td>NaN</td>\n",
       "    </tr>\n",
       "    <tr>\n",
       "      <th>1</th>\n",
       "      <td>2</td>\n",
       "      <td>stockton, california, usa</td>\n",
       "      <td>18</td>\n",
       "    </tr>\n",
       "    <tr>\n",
       "      <th>2</th>\n",
       "      <td>3</td>\n",
       "      <td>moscow, yukon territory, russia</td>\n",
       "      <td>NaN</td>\n",
       "    </tr>\n",
       "    <tr>\n",
       "      <th>3</th>\n",
       "      <td>4</td>\n",
       "      <td>porto, v.n.gaia, portugal</td>\n",
       "      <td>17</td>\n",
       "    </tr>\n",
       "    <tr>\n",
       "      <th>4</th>\n",
       "      <td>5</td>\n",
       "      <td>farnborough, hants, united kingdom</td>\n",
       "      <td>NaN</td>\n",
       "    </tr>\n",
       "  </tbody>\n",
       "</table>\n",
       "</div>"
      ],
      "text/plain": [
       "  User-ID                            Location  Age\n",
       "0       1                  nyc, new york, usa  NaN\n",
       "1       2           stockton, california, usa   18\n",
       "2       3     moscow, yukon territory, russia  NaN\n",
       "3       4           porto, v.n.gaia, portugal   17\n",
       "4       5  farnborough, hants, united kingdom  NaN"
      ]
     },
     "execution_count": 34,
     "metadata": {},
     "output_type": "execute_result"
    }
   ],
   "source": [
    "df_users.head()"
   ]
  },
  {
   "cell_type": "code",
   "execution_count": 35,
   "id": "9d8a61f2-96d5-47a1-88e9-ba02fb82a6b2",
   "metadata": {},
   "outputs": [
    {
     "data": {
      "text/html": [
       "<div>\n",
       "<style scoped>\n",
       "    .dataframe tbody tr th:only-of-type {\n",
       "        vertical-align: middle;\n",
       "    }\n",
       "\n",
       "    .dataframe tbody tr th {\n",
       "        vertical-align: top;\n",
       "    }\n",
       "\n",
       "    .dataframe thead th {\n",
       "        text-align: right;\n",
       "    }\n",
       "</style>\n",
       "<table border=\"1\" class=\"dataframe\">\n",
       "  <thead>\n",
       "    <tr style=\"text-align: right;\">\n",
       "      <th></th>\n",
       "      <th>User-ID</th>\n",
       "      <th>Location</th>\n",
       "      <th>Age</th>\n",
       "    </tr>\n",
       "  </thead>\n",
       "  <tbody>\n",
       "    <tr>\n",
       "      <th>278854</th>\n",
       "      <td>278854</td>\n",
       "      <td>portland, oregon, usa</td>\n",
       "      <td>NaN</td>\n",
       "    </tr>\n",
       "    <tr>\n",
       "      <th>278855</th>\n",
       "      <td>278855</td>\n",
       "      <td>tacoma, washington, united kingdom</td>\n",
       "      <td>50</td>\n",
       "    </tr>\n",
       "    <tr>\n",
       "      <th>278856</th>\n",
       "      <td>278856</td>\n",
       "      <td>brampton, ontario, canada</td>\n",
       "      <td>NaN</td>\n",
       "    </tr>\n",
       "    <tr>\n",
       "      <th>278857</th>\n",
       "      <td>278857</td>\n",
       "      <td>knoxville, tennessee, usa</td>\n",
       "      <td>NaN</td>\n",
       "    </tr>\n",
       "    <tr>\n",
       "      <th>278858</th>\n",
       "      <td>278858</td>\n",
       "      <td>dublin, n/a, ireland</td>\n",
       "      <td>NaN</td>\n",
       "    </tr>\n",
       "  </tbody>\n",
       "</table>\n",
       "</div>"
      ],
      "text/plain": [
       "       User-ID                            Location  Age\n",
       "278854  278854               portland, oregon, usa  NaN\n",
       "278855  278855  tacoma, washington, united kingdom   50\n",
       "278856  278856           brampton, ontario, canada  NaN\n",
       "278857  278857           knoxville, tennessee, usa  NaN\n",
       "278858  278858                dublin, n/a, ireland  NaN"
      ]
     },
     "execution_count": 35,
     "metadata": {},
     "output_type": "execute_result"
    }
   ],
   "source": [
    "df_users.tail()"
   ]
  },
  {
   "cell_type": "code",
   "execution_count": 36,
   "id": "77168592-7b5f-4323-8d4b-f7c4a55bd466",
   "metadata": {},
   "outputs": [
    {
     "name": "stdout",
     "output_type": "stream",
     "text": [
      "0\n"
     ]
    }
   ],
   "source": [
    "# Check if there are any duplicate values in dataset\n",
    "print(sum(df_users.duplicated()))"
   ]
  },
  {
   "cell_type": "code",
   "execution_count": 37,
   "id": "7c99846b-8d3b-4986-b59e-b3eaaccc9743",
   "metadata": {},
   "outputs": [
    {
     "name": "stdout",
     "output_type": "stream",
     "text": [
      "<class 'pandas.core.frame.DataFrame'>\n",
      "RangeIndex: 278859 entries, 0 to 278858\n",
      "Data columns (total 3 columns):\n",
      " #   Column    Non-Null Count   Dtype \n",
      "---  ------    --------------   ----- \n",
      " 0   User-ID   278859 non-null  object\n",
      " 1   Location  278858 non-null  object\n",
      " 2   Age       168096 non-null  object\n",
      "dtypes: object(3)\n",
      "memory usage: 6.4+ MB\n",
      "None\n"
     ]
    }
   ],
   "source": [
    "print(df_users.info())"
   ]
  },
  {
   "cell_type": "code",
   "execution_count": 38,
   "id": "eae732eb-6ee3-415a-a97e-01babbbb1149",
   "metadata": {},
   "outputs": [
    {
     "name": "stdout",
     "output_type": "stream",
     "text": [
      "[0, 1, 2, 3, 4, 5, 6, 7, 8, 9, 10, 11, 12, 13, 14, 15, 16, 17, 18, 19, 20, 21, 22, 23, 24, 25, 26, 27, 28, 29, 30, 31, 32, 33, 34, 35, 36, 37, 38, 39, 40, 41, 42, 43, 44, 45, 46, 47, 48, 49, 50, 51, 52, 53, 54, 55, 56, 57, 58, 59, 60, 61, 62, 63, 64, 65, 66, 67, 68, 69, 70, 71, 72, 73, 74, 75, 76, 77, 78, 79, 80, 81, 82, 83, 84, 85, 86, 87, 88, 89, 90, 91, 92, 93, 94, 95, 96, 97, 98, 99, 100, 101, 102, 103, 104, 105, 106, 107, 108, 109, 110, 111, 113, 114, 115, 116, 118, 119, 123, 124, 127, 128, 132, 133, 136, 137, 138, 140, 141, 143, 146, 147, 148, 151, 152, 156, 157, 159, 162, 168, 172, 175, 183, 186, 189, 199, 200, 201, 204, 207, 208, 209, 210, 212, 219, 220, 223, 226, 228, 229, 230, 231, 237, 239, 244]\n"
     ]
    }
   ],
   "source": [
    "# Get unique values, excluding None and NaN, and sort them\n",
    "unique_ages = df_users['Age'].unique()\n",
    "filtered_ages = [int(age) for age in unique_ages if age is not None and pd.notna(age)]\n",
    "sorted_unique_ages = sorted(filtered_ages)\n",
    "\n",
    "# Print the sorted unique age values\n",
    "print(sorted_unique_ages)\n"
   ]
  },
  {
   "cell_type": "code",
   "execution_count": 39,
   "id": "2f078649-2cbb-4a44-83ca-84c7b0d9b005",
   "metadata": {},
   "outputs": [],
   "source": [
    "#Making all ages above 90 and below five to nan\n",
    "# Replace values less than 5 or greater than 90 with NaN, keeping column as object type\n",
    "df_users['Age'] = df_users['Age'].apply(lambda x: np.nan if (x is None or pd.isna(x) or (isinstance(x, str) and x.isnumeric() and (int(x) < 5 or int(x) > 90)))  else x)"
   ]
  },
  {
   "cell_type": "code",
   "execution_count": 40,
   "id": "16fbf10e-88e1-41a7-9422-32a9789341e4",
   "metadata": {},
   "outputs": [
    {
     "name": "stdout",
     "output_type": "stream",
     "text": [
      "[nan '18' '17' '61' '26' '14' '25' '19' '46' '55' '32' '24' '20' '34' '23'\n",
      " '51' '31' '21' '44' '30' '57' '43' '37' '41' '54' '42' '50' '39' '53'\n",
      " '47' '36' '28' '35' '13' '58' '49' '38' '45' '62' '63' '27' '33' '29'\n",
      " '66' '40' '15' '60' '79' '22' '16' '65' '59' '48' '72' '56' '67' '80'\n",
      " '52' '69' '71' '73' '78' '9' '64' '12' '74' '75' '76' '83' '68' '11' '77'\n",
      " '70' '8' '7' '81' '10' '5' '6' '84' '82' '90' '85' '86' '87' '89' '88']\n"
     ]
    }
   ],
   "source": [
    "# Printing unique ages\n",
    "print(df_users['Age'].unique())"
   ]
  },
  {
   "cell_type": "code",
   "execution_count": 41,
   "id": "d44a841c-1c08-4054-ab93-e5b10e2f7e79",
   "metadata": {},
   "outputs": [
    {
     "name": "stdout",
     "output_type": "stream",
     "text": [
      "The mean age is 34.72384041634689\n"
     ]
    }
   ],
   "source": [
    "# Replacing all nan with mean age\n",
    "# Replace values less than 5 or greater than 90 with NaN, keeping column as object type\n",
    "df_users['Age'] = df_users['Age'].apply(lambda x: np.nan if (x is None or x in ['NaN', ''] or (isinstance(x, str) and x.isnumeric() and (int(x) < 5 or int(x) > 90))) else x)\n",
    "\n",
    "# Convert Age to numeric to calculate mean, while coercing errors to NaN\n",
    "df_users['Age'] = pd.to_numeric(df_users['Age'], errors='coerce')\n",
    "\n",
    "# Calculate mean age, ignoring NaN values\n",
    "mean_age = df_users['Age'].mean()\n",
    "\n",
    "# Replace NaN values with the mean age\n",
    "df_users['Age'].fillna(mean_age, inplace=True)\n",
    "\n",
    "print(f\"The mean age is {mean_age}\")"
   ]
  },
  {
   "cell_type": "code",
   "execution_count": 42,
   "id": "8565d752-4fc1-4e75-97ff-26a3029eff5c",
   "metadata": {},
   "outputs": [],
   "source": [
    "# Converting age to type int\n",
    "df_users[\"Age\"] = df_users[\"Age\"].astype(int)"
   ]
  },
  {
   "cell_type": "code",
   "execution_count": 43,
   "id": "da2364e6-9ee7-4499-83a7-4fbddf98d585",
   "metadata": {},
   "outputs": [
    {
     "name": "stdout",
     "output_type": "stream",
     "text": [
      "[34 18 17 61 26 14 25 19 46 55 32 24 20 23 51 31 21 44 30 57 43 37 41 54\n",
      " 42 50 39 53 47 36 28 35 13 58 49 38 45 62 63 27 33 29 66 40 15 60 79 22\n",
      " 16 65 59 48 72 56 67 80 52 69 71 73 78  9 64 12 74 75 76 83 68 11 77 70\n",
      "  8  7 81 10  5  6 84 82 90 85 86 87 89 88]\n"
     ]
    }
   ],
   "source": [
    "# Printing unique ages\n",
    "print(df_users['Age'].unique())"
   ]
  },
  {
   "cell_type": "markdown",
   "id": "822ea53f-e7af-41af-a327-cc209e1e1d0d",
   "metadata": {},
   "source": [
    "<h1> Recommender System </h1>"
   ]
  },
  {
   "cell_type": "markdown",
   "id": "787c4801-70e9-49a7-8a7d-3aadb48948c9",
   "metadata": {},
   "source": [
    "<p> We are making a colloborative filter specifically for The Queen of the Damned (Vampire Chronicles (Paperback)). We will only consider users who have rated the book The Queen of the Damned (Vampire Chronicles (Paperback))</p>"
   ]
  },
  {
   "cell_type": "code",
   "execution_count": 44,
   "id": "0a9a8d59-ae03-46bc-a484-edd086230a3e",
   "metadata": {},
   "outputs": [
    {
     "data": {
      "text/html": [
       "<div>\n",
       "<style scoped>\n",
       "    .dataframe tbody tr th:only-of-type {\n",
       "        vertical-align: middle;\n",
       "    }\n",
       "\n",
       "    .dataframe tbody tr th {\n",
       "        vertical-align: top;\n",
       "    }\n",
       "\n",
       "    .dataframe thead th {\n",
       "        text-align: right;\n",
       "    }\n",
       "</style>\n",
       "<table border=\"1\" class=\"dataframe\">\n",
       "  <thead>\n",
       "    <tr style=\"text-align: right;\">\n",
       "      <th></th>\n",
       "      <th>ISBN</th>\n",
       "      <th>Book-Title</th>\n",
       "      <th>Book-Author</th>\n",
       "      <th>Year-Of-Publication</th>\n",
       "      <th>Publisher</th>\n",
       "      <th>Image-URL-M</th>\n",
       "    </tr>\n",
       "  </thead>\n",
       "  <tbody>\n",
       "    <tr>\n",
       "      <th>2527</th>\n",
       "      <td>0345351525</td>\n",
       "      <td>The Queen of the Damned (Vampire Chronicles (P...</td>\n",
       "      <td>Anne Rice</td>\n",
       "      <td>1993</td>\n",
       "      <td>Ballantine Books</td>\n",
       "      <td>http://images.amazon.com/images/P/0345351525.0...</td>\n",
       "    </tr>\n",
       "    <tr>\n",
       "      <th>72840</th>\n",
       "      <td>0833563505</td>\n",
       "      <td>The Queen of the Damned (Vampire Chronicles (P...</td>\n",
       "      <td>Anne Rice</td>\n",
       "      <td>1999</td>\n",
       "      <td>Sagebrush Bound</td>\n",
       "      <td>http://images.amazon.com/images/P/0833563505.0...</td>\n",
       "    </tr>\n",
       "  </tbody>\n",
       "</table>\n",
       "</div>"
      ],
      "text/plain": [
       "             ISBN                                         Book-Title  \\\n",
       "2527   0345351525  The Queen of the Damned (Vampire Chronicles (P...   \n",
       "72840  0833563505  The Queen of the Damned (Vampire Chronicles (P...   \n",
       "\n",
       "      Book-Author  Year-Of-Publication         Publisher  \\\n",
       "2527    Anne Rice                 1993  Ballantine Books   \n",
       "72840   Anne Rice                 1999   Sagebrush Bound   \n",
       "\n",
       "                                             Image-URL-M  \n",
       "2527   http://images.amazon.com/images/P/0345351525.0...  \n",
       "72840  http://images.amazon.com/images/P/0833563505.0...  "
      ]
     },
     "execution_count": 44,
     "metadata": {},
     "output_type": "execute_result"
    }
   ],
   "source": [
    "# Finding the ISBN number for The Queen of the Damned (Vampire Chronicles (Paperback))\n",
    "df_books[df_books[\"Book-Title\"]=='The Queen of the Damned (Vampire Chronicles (Paperback))']"
   ]
  },
  {
   "cell_type": "code",
   "execution_count": 45,
   "id": "26f438f1-a247-448e-a16e-5914493e0fe3",
   "metadata": {},
   "outputs": [],
   "source": [
    "# We find we have two editions of The Queen of the Damned (Vampire Chronicles (Paperback))\n",
    "# we need to apply inner join between ratings df and books df to get the books rating df\n",
    "books_rating_df = pd.merge(df_books[[\"ISBN\",\"Book-Title\"]], df_ratings, on='ISBN', how='inner')"
   ]
  },
  {
   "cell_type": "code",
   "execution_count": 46,
   "id": "154a36a5-70d8-4ee9-8e5e-c4b7bbe71cd5",
   "metadata": {},
   "outputs": [
    {
     "data": {
      "text/plain": [
       "1031172"
      ]
     },
     "execution_count": 46,
     "metadata": {},
     "output_type": "execute_result"
    }
   ],
   "source": [
    "len(books_rating_df)"
   ]
  },
  {
   "cell_type": "code",
   "execution_count": 47,
   "id": "78cf5187-64a9-48bd-8618-ecd0efd7a22d",
   "metadata": {},
   "outputs": [
    {
     "data": {
      "text/html": [
       "<div>\n",
       "<style scoped>\n",
       "    .dataframe tbody tr th:only-of-type {\n",
       "        vertical-align: middle;\n",
       "    }\n",
       "\n",
       "    .dataframe tbody tr th {\n",
       "        vertical-align: top;\n",
       "    }\n",
       "\n",
       "    .dataframe thead th {\n",
       "        text-align: right;\n",
       "    }\n",
       "</style>\n",
       "<table border=\"1\" class=\"dataframe\">\n",
       "  <thead>\n",
       "    <tr style=\"text-align: right;\">\n",
       "      <th></th>\n",
       "      <th>ISBN</th>\n",
       "      <th>Book-Title</th>\n",
       "      <th>User-ID</th>\n",
       "      <th>Book-Rating</th>\n",
       "    </tr>\n",
       "  </thead>\n",
       "  <tbody>\n",
       "    <tr>\n",
       "      <th>0</th>\n",
       "      <td>0195153448</td>\n",
       "      <td>Classical Mythology</td>\n",
       "      <td>2</td>\n",
       "      <td>0</td>\n",
       "    </tr>\n",
       "    <tr>\n",
       "      <th>1</th>\n",
       "      <td>0002005018</td>\n",
       "      <td>Clara Callan</td>\n",
       "      <td>8</td>\n",
       "      <td>5</td>\n",
       "    </tr>\n",
       "    <tr>\n",
       "      <th>2</th>\n",
       "      <td>0002005018</td>\n",
       "      <td>Clara Callan</td>\n",
       "      <td>11400</td>\n",
       "      <td>0</td>\n",
       "    </tr>\n",
       "    <tr>\n",
       "      <th>3</th>\n",
       "      <td>0002005018</td>\n",
       "      <td>Clara Callan</td>\n",
       "      <td>11676</td>\n",
       "      <td>8</td>\n",
       "    </tr>\n",
       "    <tr>\n",
       "      <th>4</th>\n",
       "      <td>0002005018</td>\n",
       "      <td>Clara Callan</td>\n",
       "      <td>41385</td>\n",
       "      <td>0</td>\n",
       "    </tr>\n",
       "  </tbody>\n",
       "</table>\n",
       "</div>"
      ],
      "text/plain": [
       "         ISBN           Book-Title User-ID  Book-Rating\n",
       "0  0195153448  Classical Mythology       2            0\n",
       "1  0002005018         Clara Callan       8            5\n",
       "2  0002005018         Clara Callan   11400            0\n",
       "3  0002005018         Clara Callan   11676            8\n",
       "4  0002005018         Clara Callan   41385            0"
      ]
     },
     "execution_count": 47,
     "metadata": {},
     "output_type": "execute_result"
    }
   ],
   "source": [
    "books_rating_df.head()"
   ]
  },
  {
   "cell_type": "code",
   "execution_count": 48,
   "id": "0cc894b3-1e26-409e-81d0-b142072f3515",
   "metadata": {},
   "outputs": [
    {
     "data": {
      "text/html": [
       "<div>\n",
       "<style scoped>\n",
       "    .dataframe tbody tr th:only-of-type {\n",
       "        vertical-align: middle;\n",
       "    }\n",
       "\n",
       "    .dataframe tbody tr th {\n",
       "        vertical-align: top;\n",
       "    }\n",
       "\n",
       "    .dataframe thead th {\n",
       "        text-align: right;\n",
       "    }\n",
       "</style>\n",
       "<table border=\"1\" class=\"dataframe\">\n",
       "  <thead>\n",
       "    <tr style=\"text-align: right;\">\n",
       "      <th></th>\n",
       "      <th>ISBN</th>\n",
       "      <th>Book-Title</th>\n",
       "      <th>User-ID</th>\n",
       "      <th>Book-Rating</th>\n",
       "    </tr>\n",
       "  </thead>\n",
       "  <tbody>\n",
       "    <tr>\n",
       "      <th>1031167</th>\n",
       "      <td>0440400988</td>\n",
       "      <td>There's a Bat in Bunk Five</td>\n",
       "      <td>276463</td>\n",
       "      <td>7</td>\n",
       "    </tr>\n",
       "    <tr>\n",
       "      <th>1031168</th>\n",
       "      <td>0525447644</td>\n",
       "      <td>From One to One Hundred</td>\n",
       "      <td>276579</td>\n",
       "      <td>4</td>\n",
       "    </tr>\n",
       "    <tr>\n",
       "      <th>1031169</th>\n",
       "      <td>006008667X</td>\n",
       "      <td>Lily Dale : The True Story of the Town that Ta...</td>\n",
       "      <td>276680</td>\n",
       "      <td>0</td>\n",
       "    </tr>\n",
       "    <tr>\n",
       "      <th>1031170</th>\n",
       "      <td>0192126040</td>\n",
       "      <td>Republic (World's Classics)</td>\n",
       "      <td>276680</td>\n",
       "      <td>0</td>\n",
       "    </tr>\n",
       "    <tr>\n",
       "      <th>1031171</th>\n",
       "      <td>0767409752</td>\n",
       "      <td>A Guided Tour of Rene Descartes' Meditations o...</td>\n",
       "      <td>276680</td>\n",
       "      <td>0</td>\n",
       "    </tr>\n",
       "  </tbody>\n",
       "</table>\n",
       "</div>"
      ],
      "text/plain": [
       "               ISBN                                         Book-Title  \\\n",
       "1031167  0440400988                         There's a Bat in Bunk Five   \n",
       "1031168  0525447644                            From One to One Hundred   \n",
       "1031169  006008667X  Lily Dale : The True Story of the Town that Ta...   \n",
       "1031170  0192126040                        Republic (World's Classics)   \n",
       "1031171  0767409752  A Guided Tour of Rene Descartes' Meditations o...   \n",
       "\n",
       "        User-ID  Book-Rating  \n",
       "1031167  276463            7  \n",
       "1031168  276579            4  \n",
       "1031169  276680            0  \n",
       "1031170  276680            0  \n",
       "1031171  276680            0  "
      ]
     },
     "execution_count": 48,
     "metadata": {},
     "output_type": "execute_result"
    }
   ],
   "source": [
    "books_rating_df.tail()"
   ]
  },
  {
   "cell_type": "code",
   "execution_count": 49,
   "id": "bbe73978-8678-46e2-947c-5189ef860d49",
   "metadata": {},
   "outputs": [],
   "source": [
    "# Dropping the ISBN column\n",
    "books_rating_df.drop(\"ISBN\", axis=1, inplace=True)"
   ]
  },
  {
   "cell_type": "code",
   "execution_count": 50,
   "id": "bf0ab826-3efb-45c9-82d8-44e1378b134d",
   "metadata": {},
   "outputs": [],
   "source": [
    "# Aggregrating the ratings\n",
    "books_rating_df = books_rating_df.groupby(['Book-Title', 'User-ID']).agg({\n",
    "    'Book-Rating': lambda x: np.floor(x.mean())\n",
    "}).reset_index()"
   ]
  },
  {
   "cell_type": "code",
   "execution_count": 51,
   "id": "155e02b2-6398-4b07-b4ec-51a9afffa217",
   "metadata": {},
   "outputs": [
    {
     "data": {
      "text/plain": [
       "1026394"
      ]
     },
     "execution_count": 51,
     "metadata": {},
     "output_type": "execute_result"
    }
   ],
   "source": [
    "len(books_rating_df)"
   ]
  },
  {
   "cell_type": "code",
   "execution_count": 52,
   "id": "36fad66d-0bfe-4c90-b3fc-9b02724e9def",
   "metadata": {},
   "outputs": [
    {
     "name": "stdout",
     "output_type": "stream",
     "text": [
      "Empty DataFrame\n",
      "Columns: [Book-Title, User-ID, Book-Rating]\n",
      "Index: []\n"
     ]
    }
   ],
   "source": [
    "# Step 1: Find all duplicates based on 'User-ID', 'Book_Title', and 'Book-Author'\n",
    "duplicates = books_rating_df[books_rating_df.duplicated(subset=['User-ID', 'Book-Title'], keep=False)]\n",
    "\n",
    "# Step 2: Sort by 'User-ID'\n",
    "duplicates_sorted = duplicates.sort_values(by='User-ID')\n",
    "\n",
    "# Step 3: Display the sorted duplicates\n",
    "print(duplicates_sorted)"
   ]
  },
  {
   "cell_type": "code",
   "execution_count": 53,
   "id": "0f9e143b-7017-4265-acf8-79bfbeab401c",
   "metadata": {},
   "outputs": [],
   "source": [
    "# Step 1: Sort df_books by 'Book-Title', 'Book-Author', and 'Year-Of-Publication' in descending order\n",
    "df_books_sorted = df_books.sort_values(['Book-Title', 'Year-Of-Publication'], ascending=[True, False])\n",
    "\n",
    "# Step 2: Drop duplicates, keeping only the entry with the latest 'Year-Of-Publication'\n",
    "df_books_sorted = df_books_sorted.drop_duplicates(subset=['Book-Title'], keep='first')\n",
    "\n",
    "# Step 3: Merge the two DataFrames on 'Book-Title' and 'Book-Author'\n",
    "books_rating_df = pd.merge(books_rating_df, df_books_sorted, on=['Book-Title'], how='left')"
   ]
  },
  {
   "cell_type": "code",
   "execution_count": 54,
   "id": "b030ecdb-ae3d-4a35-be69-8fba1e42fdb0",
   "metadata": {},
   "outputs": [
    {
     "data": {
      "text/plain": [
       "1026394"
      ]
     },
     "execution_count": 54,
     "metadata": {},
     "output_type": "execute_result"
    }
   ],
   "source": [
    "len(books_rating_df)"
   ]
  },
  {
   "cell_type": "code",
   "execution_count": 55,
   "id": "07fa2f9d-4fd8-4113-baee-9541f769ef91",
   "metadata": {},
   "outputs": [],
   "source": [
    "books_rating_df = books_rating_df[[\"ISBN\",\"Book-Title\",\"Book-Author\",\"Publisher\",\"Year-Of-Publication\",\"Image-URL-M\",\"User-ID\",\"Book-Rating\"]]"
   ]
  },
  {
   "cell_type": "code",
   "execution_count": 56,
   "id": "bf5e3247-00c4-4192-86c3-c30896090e2d",
   "metadata": {},
   "outputs": [
    {
     "data": {
      "text/html": [
       "<div>\n",
       "<style scoped>\n",
       "    .dataframe tbody tr th:only-of-type {\n",
       "        vertical-align: middle;\n",
       "    }\n",
       "\n",
       "    .dataframe tbody tr th {\n",
       "        vertical-align: top;\n",
       "    }\n",
       "\n",
       "    .dataframe thead th {\n",
       "        text-align: right;\n",
       "    }\n",
       "</style>\n",
       "<table border=\"1\" class=\"dataframe\">\n",
       "  <thead>\n",
       "    <tr style=\"text-align: right;\">\n",
       "      <th></th>\n",
       "      <th>ISBN</th>\n",
       "      <th>Book-Title</th>\n",
       "      <th>Book-Author</th>\n",
       "      <th>Publisher</th>\n",
       "      <th>Year-Of-Publication</th>\n",
       "      <th>Image-URL-M</th>\n",
       "      <th>User-ID</th>\n",
       "      <th>Book-Rating</th>\n",
       "    </tr>\n",
       "  </thead>\n",
       "  <tbody>\n",
       "    <tr>\n",
       "      <th>0</th>\n",
       "      <td>0590567330</td>\n",
       "      <td>A Light in the Storm: The Civil War Diary of ...</td>\n",
       "      <td>Karen Hesse</td>\n",
       "      <td>Hyperion Books for Children</td>\n",
       "      <td>1999</td>\n",
       "      <td>http://images.amazon.com/images/P/0590567330.0...</td>\n",
       "      <td>18995</td>\n",
       "      <td>0.0</td>\n",
       "    </tr>\n",
       "    <tr>\n",
       "      <th>1</th>\n",
       "      <td>0590567330</td>\n",
       "      <td>A Light in the Storm: The Civil War Diary of ...</td>\n",
       "      <td>Karen Hesse</td>\n",
       "      <td>Hyperion Books for Children</td>\n",
       "      <td>1999</td>\n",
       "      <td>http://images.amazon.com/images/P/0590567330.0...</td>\n",
       "      <td>35859</td>\n",
       "      <td>0.0</td>\n",
       "    </tr>\n",
       "    <tr>\n",
       "      <th>2</th>\n",
       "      <td>0590567330</td>\n",
       "      <td>A Light in the Storm: The Civil War Diary of ...</td>\n",
       "      <td>Karen Hesse</td>\n",
       "      <td>Hyperion Books for Children</td>\n",
       "      <td>1999</td>\n",
       "      <td>http://images.amazon.com/images/P/0590567330.0...</td>\n",
       "      <td>55927</td>\n",
       "      <td>0.0</td>\n",
       "    </tr>\n",
       "    <tr>\n",
       "      <th>3</th>\n",
       "      <td>0590567330</td>\n",
       "      <td>A Light in the Storm: The Civil War Diary of ...</td>\n",
       "      <td>Karen Hesse</td>\n",
       "      <td>Hyperion Books for Children</td>\n",
       "      <td>1999</td>\n",
       "      <td>http://images.amazon.com/images/P/0590567330.0...</td>\n",
       "      <td>96448</td>\n",
       "      <td>9.0</td>\n",
       "    </tr>\n",
       "    <tr>\n",
       "      <th>4</th>\n",
       "      <td>0964147726</td>\n",
       "      <td>Always Have Popsicles</td>\n",
       "      <td>Rebecca Harvin</td>\n",
       "      <td>Rebecca L. Harvin</td>\n",
       "      <td>1994</td>\n",
       "      <td>http://images.amazon.com/images/P/0964147726.0...</td>\n",
       "      <td>172742</td>\n",
       "      <td>0.0</td>\n",
       "    </tr>\n",
       "  </tbody>\n",
       "</table>\n",
       "</div>"
      ],
      "text/plain": [
       "         ISBN                                         Book-Title  \\\n",
       "0  0590567330   A Light in the Storm: The Civil War Diary of ...   \n",
       "1  0590567330   A Light in the Storm: The Civil War Diary of ...   \n",
       "2  0590567330   A Light in the Storm: The Civil War Diary of ...   \n",
       "3  0590567330   A Light in the Storm: The Civil War Diary of ...   \n",
       "4  0964147726                              Always Have Popsicles   \n",
       "\n",
       "      Book-Author                    Publisher  Year-Of-Publication  \\\n",
       "0     Karen Hesse  Hyperion Books for Children                 1999   \n",
       "1     Karen Hesse  Hyperion Books for Children                 1999   \n",
       "2     Karen Hesse  Hyperion Books for Children                 1999   \n",
       "3     Karen Hesse  Hyperion Books for Children                 1999   \n",
       "4  Rebecca Harvin            Rebecca L. Harvin                 1994   \n",
       "\n",
       "                                         Image-URL-M User-ID  Book-Rating  \n",
       "0  http://images.amazon.com/images/P/0590567330.0...   18995          0.0  \n",
       "1  http://images.amazon.com/images/P/0590567330.0...   35859          0.0  \n",
       "2  http://images.amazon.com/images/P/0590567330.0...   55927          0.0  \n",
       "3  http://images.amazon.com/images/P/0590567330.0...   96448          9.0  \n",
       "4  http://images.amazon.com/images/P/0964147726.0...  172742          0.0  "
      ]
     },
     "execution_count": 56,
     "metadata": {},
     "output_type": "execute_result"
    }
   ],
   "source": [
    "books_rating_df.head()"
   ]
  },
  {
   "cell_type": "code",
   "execution_count": 57,
   "id": "b75b4c36-7cac-4ff2-beb1-4d4533ef3e30",
   "metadata": {},
   "outputs": [
    {
     "data": {
      "text/html": [
       "<div>\n",
       "<style scoped>\n",
       "    .dataframe tbody tr th:only-of-type {\n",
       "        vertical-align: middle;\n",
       "    }\n",
       "\n",
       "    .dataframe tbody tr th {\n",
       "        vertical-align: top;\n",
       "    }\n",
       "\n",
       "    .dataframe thead th {\n",
       "        text-align: right;\n",
       "    }\n",
       "</style>\n",
       "<table border=\"1\" class=\"dataframe\">\n",
       "  <thead>\n",
       "    <tr style=\"text-align: right;\">\n",
       "      <th></th>\n",
       "      <th>ISBN</th>\n",
       "      <th>Book-Title</th>\n",
       "      <th>Book-Author</th>\n",
       "      <th>Publisher</th>\n",
       "      <th>Year-Of-Publication</th>\n",
       "      <th>Image-URL-M</th>\n",
       "      <th>User-ID</th>\n",
       "      <th>Book-Rating</th>\n",
       "    </tr>\n",
       "  </thead>\n",
       "  <tbody>\n",
       "    <tr>\n",
       "      <th>1026389</th>\n",
       "      <td>3442725739</td>\n",
       "      <td>Ã?Â?stlich der Berge.</td>\n",
       "      <td>David Guterson</td>\n",
       "      <td>btb</td>\n",
       "      <td>2000</td>\n",
       "      <td>http://images.amazon.com/images/P/3442725739.0...</td>\n",
       "      <td>243548</td>\n",
       "      <td>0.0</td>\n",
       "    </tr>\n",
       "    <tr>\n",
       "      <th>1026390</th>\n",
       "      <td>3442725739</td>\n",
       "      <td>Ã?Â?stlich der Berge.</td>\n",
       "      <td>David Guterson</td>\n",
       "      <td>btb</td>\n",
       "      <td>2000</td>\n",
       "      <td>http://images.amazon.com/images/P/3442725739.0...</td>\n",
       "      <td>261105</td>\n",
       "      <td>0.0</td>\n",
       "    </tr>\n",
       "    <tr>\n",
       "      <th>1026391</th>\n",
       "      <td>3442725739</td>\n",
       "      <td>Ã?Â?stlich der Berge.</td>\n",
       "      <td>David Guterson</td>\n",
       "      <td>btb</td>\n",
       "      <td>2000</td>\n",
       "      <td>http://images.amazon.com/images/P/3442725739.0...</td>\n",
       "      <td>90839</td>\n",
       "      <td>8.0</td>\n",
       "    </tr>\n",
       "    <tr>\n",
       "      <th>1026392</th>\n",
       "      <td>2842192508</td>\n",
       "      <td>Ã?Â?thique en toc</td>\n",
       "      <td>Didier Daeninckx</td>\n",
       "      <td>Baleine</td>\n",
       "      <td>1998</td>\n",
       "      <td>http://images.amazon.com/images/P/2842192508.0...</td>\n",
       "      <td>25436</td>\n",
       "      <td>8.0</td>\n",
       "    </tr>\n",
       "    <tr>\n",
       "      <th>1026393</th>\n",
       "      <td>2842192508</td>\n",
       "      <td>Ã?Â?thique en toc</td>\n",
       "      <td>Didier Daeninckx</td>\n",
       "      <td>Baleine</td>\n",
       "      <td>1998</td>\n",
       "      <td>http://images.amazon.com/images/P/2842192508.0...</td>\n",
       "      <td>53628</td>\n",
       "      <td>0.0</td>\n",
       "    </tr>\n",
       "  </tbody>\n",
       "</table>\n",
       "</div>"
      ],
      "text/plain": [
       "               ISBN             Book-Title       Book-Author Publisher  \\\n",
       "1026389  3442725739  Ã?Â?stlich der Berge.    David Guterson       btb   \n",
       "1026390  3442725739  Ã?Â?stlich der Berge.    David Guterson       btb   \n",
       "1026391  3442725739  Ã?Â?stlich der Berge.    David Guterson       btb   \n",
       "1026392  2842192508      Ã?Â?thique en toc  Didier Daeninckx   Baleine   \n",
       "1026393  2842192508      Ã?Â?thique en toc  Didier Daeninckx   Baleine   \n",
       "\n",
       "         Year-Of-Publication  \\\n",
       "1026389                 2000   \n",
       "1026390                 2000   \n",
       "1026391                 2000   \n",
       "1026392                 1998   \n",
       "1026393                 1998   \n",
       "\n",
       "                                               Image-URL-M User-ID  \\\n",
       "1026389  http://images.amazon.com/images/P/3442725739.0...  243548   \n",
       "1026390  http://images.amazon.com/images/P/3442725739.0...  261105   \n",
       "1026391  http://images.amazon.com/images/P/3442725739.0...   90839   \n",
       "1026392  http://images.amazon.com/images/P/2842192508.0...   25436   \n",
       "1026393  http://images.amazon.com/images/P/2842192508.0...   53628   \n",
       "\n",
       "         Book-Rating  \n",
       "1026389          0.0  \n",
       "1026390          0.0  \n",
       "1026391          8.0  \n",
       "1026392          8.0  \n",
       "1026393          0.0  "
      ]
     },
     "execution_count": 57,
     "metadata": {},
     "output_type": "execute_result"
    }
   ],
   "source": [
    "books_rating_df.tail()"
   ]
  },
  {
   "cell_type": "code",
   "execution_count": 58,
   "id": "c12738b1-1b8d-4a55-a124-b41b2722761d",
   "metadata": {},
   "outputs": [],
   "source": [
    "# Now filtering only those ratings done by users who have rated \"The Queen of the Damned (Vampire Chronicles (Paperback))\"\n",
    "\n",
    "# Step 1: Get User-IDs of users who rated \"The Queen of the Damned (Vampire Chronicles (Paperback))\"\n",
    "queen_raters = books_rating_df[books_rating_df['Book-Title'] == 'The Queen of the Damned (Vampire Chronicles (Paperback))']['User-ID'].unique()\n",
    "\n",
    "# Step 2: Filter books_ratings_df to include only ratings from these users\n",
    "filtered_df = books_rating_df[books_rating_df['User-ID'].isin(queen_raters)]"
   ]
  },
  {
   "cell_type": "code",
   "execution_count": 59,
   "id": "b9c2152c-f48c-457a-95ff-d1a9032306a8",
   "metadata": {},
   "outputs": [
    {
     "data": {
      "text/plain": [
       "94524"
      ]
     },
     "execution_count": 59,
     "metadata": {},
     "output_type": "execute_result"
    }
   ],
   "source": [
    "len(filtered_df)"
   ]
  },
  {
   "cell_type": "code",
   "execution_count": 60,
   "id": "7ac94c94-95fc-4481-bde4-5bf5489948de",
   "metadata": {},
   "outputs": [
    {
     "data": {
      "text/plain": [
       "274"
      ]
     },
     "execution_count": 60,
     "metadata": {},
     "output_type": "execute_result"
    }
   ],
   "source": [
    "len(filtered_df[\"User-ID\"].unique())"
   ]
  },
  {
   "cell_type": "code",
   "execution_count": 61,
   "id": "7807a68c-df42-4abc-ad69-6d24a5b18b6d",
   "metadata": {},
   "outputs": [],
   "source": [
    "# Now making user-item-rating matrix out of filtered df for recomender system\n",
    "user_item_rating_matrix = filtered_df.pivot_table(index = 'Book-Title', columns = 'User-ID', values = 'Book-Rating')\n",
    "\n",
    "# Filling the NA values with '0'\n",
    "user_item_rating_matrix.fillna(0, inplace = True)"
   ]
  },
  {
   "cell_type": "code",
   "execution_count": 62,
   "id": "94f2972e-dcd1-433d-ada0-1ab8d5eea49b",
   "metadata": {},
   "outputs": [
    {
     "data": {
      "text/plain": [
       "(52821, 274)"
      ]
     },
     "execution_count": 62,
     "metadata": {},
     "output_type": "execute_result"
    }
   ],
   "source": [
    "user_item_rating_matrix.shape"
   ]
  },
  {
   "cell_type": "code",
   "execution_count": 63,
   "id": "c2338931-d50e-43a1-b0ca-c5d71f08437d",
   "metadata": {},
   "outputs": [],
   "source": [
    "# Scaling the matrix\n",
    "scaler = StandardScaler(with_mean=True, with_std=True)\n",
    "user_item_rating_matrix_normalized = scaler.fit_transform(user_item_rating_matrix)"
   ]
  },
  {
   "cell_type": "code",
   "execution_count": 64,
   "id": "aa59acb5-b2f0-4873-adb8-3c08939ec2a4",
   "metadata": {},
   "outputs": [],
   "source": [
    "similarity_score = cosine_similarity(user_item_rating_matrix_normalized)"
   ]
  },
  {
   "cell_type": "code",
   "execution_count": 65,
   "id": "836661a4-4c80-4be1-a3a7-c97aa02d6acb",
   "metadata": {},
   "outputs": [
    {
     "data": {
      "text/plain": [
       "(52821, 52821)"
      ]
     },
     "execution_count": 65,
     "metadata": {},
     "output_type": "execute_result"
    }
   ],
   "source": [
    "similarity_score.shape"
   ]
  },
  {
   "cell_type": "code",
   "execution_count": 66,
   "id": "bf9e21f5-8805-41e9-a0c7-39561a2425fd",
   "metadata": {},
   "outputs": [],
   "source": [
    "# Convert to DataFrame and set indexes and columns to book names\n",
    "similarity_df = pd.DataFrame(similarity_score, \n",
    "                              index=user_item_rating_matrix.index, \n",
    "                              columns=user_item_rating_matrix.index)"
   ]
  },
  {
   "cell_type": "code",
   "execution_count": 67,
   "id": "6773e0c9-82d6-47c0-9f1f-93537be07477",
   "metadata": {},
   "outputs": [],
   "source": [
    "# Defining the function to find the top_n recomendation for a particular book\n",
    "\n",
    "def recommend_top_n_books(similarity_df, book_title, n):\n",
    "    \"\"\"\n",
    "    Recommend top n books based on the highest similarity scores for a given book title,\n",
    "    including similarity scores and rankings.\n",
    "\n",
    "    Parameters:\n",
    "    - similarity_df: DataFrame containing similarity scores between books\n",
    "    - book_title: Title of the book to base recommendations on\n",
    "    - n: Number of top recommendations to return\n",
    "\n",
    "    Returns:\n",
    "    - DataFrame containing recommended book titles, similarity scores, and rankings\n",
    "    \"\"\"\n",
    "    # Check if the book title exists in the similarity DataFrame\n",
    "    if book_title not in similarity_df.index:\n",
    "        return f\"The book '{book_title}' is not in the similarity DataFrame.\"\n",
    "\n",
    "    # Step 1: Get the similarity scores for the given book title\n",
    "    similarity_scores = similarity_df.loc[book_title]\n",
    "\n",
    "    # Step 2: Sort the scores in descending order and get the top n\n",
    "    top_n_books = similarity_scores.nlargest(n + 1)  # +1 to exclude the book itself\n",
    "\n",
    "    # Step 3: Create a DataFrame with book titles, similarity scores, and rankings\n",
    "    recommendations_df = pd.DataFrame({\n",
    "        'Book-Title': top_n_books.index,\n",
    "        'Similarity Score': top_n_books.values,\n",
    "    })\n",
    "\n",
    "    # Add a ranking column\n",
    "    recommendations_df['Ranking'] = range(0, len(recommendations_df))\n",
    "\n",
    "    # Return the DataFrame containing recommendations\n",
    "    return recommendations_df"
   ]
  },
  {
   "cell_type": "code",
   "execution_count": 68,
   "id": "7968c93c-2121-43e1-a1a8-0dd7278d3668",
   "metadata": {},
   "outputs": [],
   "source": [
    "recommendations_df = recommend_top_n_books(similarity_df, 'The Queen of the Damned (Vampire Chronicles (Paperback))', 10)"
   ]
  },
  {
   "cell_type": "code",
   "execution_count": 69,
   "id": "4d3752ec-f4ef-4e69-bec0-06abcdab0416",
   "metadata": {},
   "outputs": [
    {
     "data": {
      "text/html": [
       "<div>\n",
       "<style scoped>\n",
       "    .dataframe tbody tr th:only-of-type {\n",
       "        vertical-align: middle;\n",
       "    }\n",
       "\n",
       "    .dataframe tbody tr th {\n",
       "        vertical-align: top;\n",
       "    }\n",
       "\n",
       "    .dataframe thead th {\n",
       "        text-align: right;\n",
       "    }\n",
       "</style>\n",
       "<table border=\"1\" class=\"dataframe\">\n",
       "  <thead>\n",
       "    <tr style=\"text-align: right;\">\n",
       "      <th></th>\n",
       "      <th>Book-Title</th>\n",
       "      <th>Similarity Score</th>\n",
       "      <th>Ranking</th>\n",
       "    </tr>\n",
       "  </thead>\n",
       "  <tbody>\n",
       "    <tr>\n",
       "      <th>0</th>\n",
       "      <td>The Queen of the Damned (Vampire Chronicles (P...</td>\n",
       "      <td>1.000000</td>\n",
       "      <td>0</td>\n",
       "    </tr>\n",
       "    <tr>\n",
       "      <th>1</th>\n",
       "      <td>The Vampire Lestat (Vampire Chronicles, Book II)</td>\n",
       "      <td>0.252394</td>\n",
       "      <td>1</td>\n",
       "    </tr>\n",
       "    <tr>\n",
       "      <th>2</th>\n",
       "      <td>Pandora: New Tales of the Vampires (New Tales ...</td>\n",
       "      <td>0.239926</td>\n",
       "      <td>2</td>\n",
       "    </tr>\n",
       "    <tr>\n",
       "      <th>3</th>\n",
       "      <td>The Tale of the Body Thief (Vampire Chronicles...</td>\n",
       "      <td>0.237966</td>\n",
       "      <td>3</td>\n",
       "    </tr>\n",
       "    <tr>\n",
       "      <th>4</th>\n",
       "      <td>Interview with the Vampire</td>\n",
       "      <td>0.234949</td>\n",
       "      <td>4</td>\n",
       "    </tr>\n",
       "    <tr>\n",
       "      <th>5</th>\n",
       "      <td>The Celestine Prophecy</td>\n",
       "      <td>0.229347</td>\n",
       "      <td>5</td>\n",
       "    </tr>\n",
       "    <tr>\n",
       "      <th>6</th>\n",
       "      <td>The Redemption of Althalus</td>\n",
       "      <td>0.217616</td>\n",
       "      <td>6</td>\n",
       "    </tr>\n",
       "    <tr>\n",
       "      <th>7</th>\n",
       "      <td>The Stand: Complete and Uncut</td>\n",
       "      <td>0.193729</td>\n",
       "      <td>7</td>\n",
       "    </tr>\n",
       "    <tr>\n",
       "      <th>8</th>\n",
       "      <td>Memnoch the Devil (Vampire Chronicles, No 5)</td>\n",
       "      <td>0.181737</td>\n",
       "      <td>8</td>\n",
       "    </tr>\n",
       "    <tr>\n",
       "      <th>9</th>\n",
       "      <td>Jennifer Government : A Novel</td>\n",
       "      <td>0.169625</td>\n",
       "      <td>9</td>\n",
       "    </tr>\n",
       "    <tr>\n",
       "      <th>10</th>\n",
       "      <td>Don't Sweat the Small Stuff and It's All Small...</td>\n",
       "      <td>0.166977</td>\n",
       "      <td>10</td>\n",
       "    </tr>\n",
       "  </tbody>\n",
       "</table>\n",
       "</div>"
      ],
      "text/plain": [
       "                                           Book-Title  Similarity Score  \\\n",
       "0   The Queen of the Damned (Vampire Chronicles (P...          1.000000   \n",
       "1    The Vampire Lestat (Vampire Chronicles, Book II)          0.252394   \n",
       "2   Pandora: New Tales of the Vampires (New Tales ...          0.239926   \n",
       "3   The Tale of the Body Thief (Vampire Chronicles...          0.237966   \n",
       "4                          Interview with the Vampire          0.234949   \n",
       "5                              The Celestine Prophecy          0.229347   \n",
       "6                          The Redemption of Althalus          0.217616   \n",
       "7                       The Stand: Complete and Uncut          0.193729   \n",
       "8        Memnoch the Devil (Vampire Chronicles, No 5)          0.181737   \n",
       "9                       Jennifer Government : A Novel          0.169625   \n",
       "10  Don't Sweat the Small Stuff and It's All Small...          0.166977   \n",
       "\n",
       "    Ranking  \n",
       "0         0  \n",
       "1         1  \n",
       "2         2  \n",
       "3         3  \n",
       "4         4  \n",
       "5         5  \n",
       "6         6  \n",
       "7         7  \n",
       "8         8  \n",
       "9         9  \n",
       "10       10  "
      ]
     },
     "execution_count": 69,
     "metadata": {},
     "output_type": "execute_result"
    }
   ],
   "source": [
    "recommendations_df"
   ]
  },
  {
   "cell_type": "code",
   "execution_count": 70,
   "id": "e7a9bcb6-3db0-40a8-9378-80ffc5b49952",
   "metadata": {},
   "outputs": [],
   "source": [
    "# Getting additional details for recomendation_df\n",
    "filtered_df_undupl = filtered_df.drop([\"User-ID\",\"Book-Rating\"], axis=1).drop_duplicates()\n",
    "recommendations_detail_df = pd.merge(filtered_df_undupl, recommendations_df, on='Book-Title', how='inner')"
   ]
  },
  {
   "cell_type": "code",
   "execution_count": 71,
   "id": "53873da1-847e-464f-815e-a14a86d963aa",
   "metadata": {},
   "outputs": [
    {
     "data": {
      "text/html": [
       "<div>\n",
       "<style scoped>\n",
       "    .dataframe tbody tr th:only-of-type {\n",
       "        vertical-align: middle;\n",
       "    }\n",
       "\n",
       "    .dataframe tbody tr th {\n",
       "        vertical-align: top;\n",
       "    }\n",
       "\n",
       "    .dataframe thead th {\n",
       "        text-align: right;\n",
       "    }\n",
       "</style>\n",
       "<table border=\"1\" class=\"dataframe\">\n",
       "  <thead>\n",
       "    <tr style=\"text-align: right;\">\n",
       "      <th></th>\n",
       "      <th>index</th>\n",
       "      <th>ISBN</th>\n",
       "      <th>Book-Title</th>\n",
       "      <th>Book-Author</th>\n",
       "      <th>Publisher</th>\n",
       "      <th>Year-Of-Publication</th>\n",
       "      <th>Image-URL-M</th>\n",
       "      <th>Similarity Score</th>\n",
       "      <th>Ranking</th>\n",
       "    </tr>\n",
       "  </thead>\n",
       "  <tbody>\n",
       "    <tr>\n",
       "      <th>0</th>\n",
       "      <td>6</td>\n",
       "      <td>0833563505</td>\n",
       "      <td>The Queen of the Damned (Vampire Chronicles (P...</td>\n",
       "      <td>Anne Rice</td>\n",
       "      <td>Sagebrush Bound</td>\n",
       "      <td>1999</td>\n",
       "      <td>http://images.amazon.com/images/P/0833563505.0...</td>\n",
       "      <td>1.000000</td>\n",
       "      <td>0</td>\n",
       "    </tr>\n",
       "    <tr>\n",
       "      <th>1</th>\n",
       "      <td>10</td>\n",
       "      <td>0345313860</td>\n",
       "      <td>The Vampire Lestat (Vampire Chronicles, Book II)</td>\n",
       "      <td>ANNE RICE</td>\n",
       "      <td>Ballantine Books</td>\n",
       "      <td>1986</td>\n",
       "      <td>http://images.amazon.com/images/P/0345313860.0...</td>\n",
       "      <td>0.252394</td>\n",
       "      <td>1</td>\n",
       "    </tr>\n",
       "    <tr>\n",
       "      <th>2</th>\n",
       "      <td>4</td>\n",
       "      <td>0345422384</td>\n",
       "      <td>Pandora: New Tales of the Vampires (New Tales ...</td>\n",
       "      <td>Anne Rice</td>\n",
       "      <td>Ballantine Books</td>\n",
       "      <td>1999</td>\n",
       "      <td>http://images.amazon.com/images/P/0345422384.0...</td>\n",
       "      <td>0.239926</td>\n",
       "      <td>2</td>\n",
       "    </tr>\n",
       "    <tr>\n",
       "      <th>3</th>\n",
       "      <td>9</td>\n",
       "      <td>034538475X</td>\n",
       "      <td>The Tale of the Body Thief (Vampire Chronicles...</td>\n",
       "      <td>Anne Rice</td>\n",
       "      <td>Ballantine Books</td>\n",
       "      <td>1993</td>\n",
       "      <td>http://images.amazon.com/images/P/034538475X.0...</td>\n",
       "      <td>0.237966</td>\n",
       "      <td>3</td>\n",
       "    </tr>\n",
       "    <tr>\n",
       "      <th>4</th>\n",
       "      <td>1</td>\n",
       "      <td>0345337662</td>\n",
       "      <td>Interview with the Vampire</td>\n",
       "      <td>Anne Rice</td>\n",
       "      <td>Ballantine Books</td>\n",
       "      <td>1993</td>\n",
       "      <td>http://images.amazon.com/images/P/0345337662.0...</td>\n",
       "      <td>0.234949</td>\n",
       "      <td>4</td>\n",
       "    </tr>\n",
       "    <tr>\n",
       "      <th>5</th>\n",
       "      <td>5</td>\n",
       "      <td>0446671002</td>\n",
       "      <td>The Celestine Prophecy</td>\n",
       "      <td>James Redfield</td>\n",
       "      <td>Warner Books</td>\n",
       "      <td>1995</td>\n",
       "      <td>http://images.amazon.com/images/P/0446671002.0...</td>\n",
       "      <td>0.229347</td>\n",
       "      <td>5</td>\n",
       "    </tr>\n",
       "    <tr>\n",
       "      <th>6</th>\n",
       "      <td>7</td>\n",
       "      <td>0345440781</td>\n",
       "      <td>The Redemption of Althalus</td>\n",
       "      <td>David Eddings</td>\n",
       "      <td>Del Rey Books</td>\n",
       "      <td>2001</td>\n",
       "      <td>http://images.amazon.com/images/P/0345440781.0...</td>\n",
       "      <td>0.217616</td>\n",
       "      <td>6</td>\n",
       "    </tr>\n",
       "    <tr>\n",
       "      <th>7</th>\n",
       "      <td>8</td>\n",
       "      <td>0451169530</td>\n",
       "      <td>The Stand: Complete and Uncut</td>\n",
       "      <td>Stephen King</td>\n",
       "      <td>Signet Book</td>\n",
       "      <td>1991</td>\n",
       "      <td>http://images.amazon.com/images/P/0451169530.0...</td>\n",
       "      <td>0.193729</td>\n",
       "      <td>7</td>\n",
       "    </tr>\n",
       "    <tr>\n",
       "      <th>8</th>\n",
       "      <td>3</td>\n",
       "      <td>0345409671</td>\n",
       "      <td>Memnoch the Devil (Vampire Chronicles, No 5)</td>\n",
       "      <td>Anne Rice</td>\n",
       "      <td>Ballantine Books</td>\n",
       "      <td>1997</td>\n",
       "      <td>http://images.amazon.com/images/P/0345409671.0...</td>\n",
       "      <td>0.181737</td>\n",
       "      <td>8</td>\n",
       "    </tr>\n",
       "    <tr>\n",
       "      <th>9</th>\n",
       "      <td>2</td>\n",
       "      <td>0385507593</td>\n",
       "      <td>Jennifer Government : A Novel</td>\n",
       "      <td>Max Barry</td>\n",
       "      <td>Doubleday</td>\n",
       "      <td>2003</td>\n",
       "      <td>http://images.amazon.com/images/P/0385507593.0...</td>\n",
       "      <td>0.169625</td>\n",
       "      <td>9</td>\n",
       "    </tr>\n",
       "    <tr>\n",
       "      <th>10</th>\n",
       "      <td>0</td>\n",
       "      <td>0786881852</td>\n",
       "      <td>Don't Sweat the Small Stuff and It's All Small...</td>\n",
       "      <td>Richard Carlson</td>\n",
       "      <td>Hyperion</td>\n",
       "      <td>1997</td>\n",
       "      <td>http://images.amazon.com/images/P/0786881852.0...</td>\n",
       "      <td>0.166977</td>\n",
       "      <td>10</td>\n",
       "    </tr>\n",
       "  </tbody>\n",
       "</table>\n",
       "</div>"
      ],
      "text/plain": [
       "    index        ISBN                                         Book-Title  \\\n",
       "0       6  0833563505  The Queen of the Damned (Vampire Chronicles (P...   \n",
       "1      10  0345313860   The Vampire Lestat (Vampire Chronicles, Book II)   \n",
       "2       4  0345422384  Pandora: New Tales of the Vampires (New Tales ...   \n",
       "3       9  034538475X  The Tale of the Body Thief (Vampire Chronicles...   \n",
       "4       1  0345337662                         Interview with the Vampire   \n",
       "5       5  0446671002                             The Celestine Prophecy   \n",
       "6       7  0345440781                         The Redemption of Althalus   \n",
       "7       8  0451169530                      The Stand: Complete and Uncut   \n",
       "8       3  0345409671       Memnoch the Devil (Vampire Chronicles, No 5)   \n",
       "9       2  0385507593                      Jennifer Government : A Novel   \n",
       "10      0  0786881852  Don't Sweat the Small Stuff and It's All Small...   \n",
       "\n",
       "        Book-Author         Publisher  Year-Of-Publication  \\\n",
       "0         Anne Rice   Sagebrush Bound                 1999   \n",
       "1         ANNE RICE  Ballantine Books                 1986   \n",
       "2         Anne Rice  Ballantine Books                 1999   \n",
       "3         Anne Rice  Ballantine Books                 1993   \n",
       "4         Anne Rice  Ballantine Books                 1993   \n",
       "5    James Redfield      Warner Books                 1995   \n",
       "6     David Eddings     Del Rey Books                 2001   \n",
       "7      Stephen King       Signet Book                 1991   \n",
       "8         Anne Rice  Ballantine Books                 1997   \n",
       "9         Max Barry         Doubleday                 2003   \n",
       "10  Richard Carlson          Hyperion                 1997   \n",
       "\n",
       "                                          Image-URL-M  Similarity Score  \\\n",
       "0   http://images.amazon.com/images/P/0833563505.0...          1.000000   \n",
       "1   http://images.amazon.com/images/P/0345313860.0...          0.252394   \n",
       "2   http://images.amazon.com/images/P/0345422384.0...          0.239926   \n",
       "3   http://images.amazon.com/images/P/034538475X.0...          0.237966   \n",
       "4   http://images.amazon.com/images/P/0345337662.0...          0.234949   \n",
       "5   http://images.amazon.com/images/P/0446671002.0...          0.229347   \n",
       "6   http://images.amazon.com/images/P/0345440781.0...          0.217616   \n",
       "7   http://images.amazon.com/images/P/0451169530.0...          0.193729   \n",
       "8   http://images.amazon.com/images/P/0345409671.0...          0.181737   \n",
       "9   http://images.amazon.com/images/P/0385507593.0...          0.169625   \n",
       "10  http://images.amazon.com/images/P/0786881852.0...          0.166977   \n",
       "\n",
       "    Ranking  \n",
       "0         0  \n",
       "1         1  \n",
       "2         2  \n",
       "3         3  \n",
       "4         4  \n",
       "5         5  \n",
       "6         6  \n",
       "7         7  \n",
       "8         8  \n",
       "9         9  \n",
       "10       10  "
      ]
     },
     "execution_count": 71,
     "metadata": {},
     "output_type": "execute_result"
    }
   ],
   "source": [
    "recommendations_detail_df.sort_values(\"Ranking\").reset_index()"
   ]
  },
  {
   "cell_type": "code",
   "execution_count": 72,
   "id": "18042bfc-fd98-40fa-b95a-bc09d91f267f",
   "metadata": {},
   "outputs": [],
   "source": [
    "# Create a new column for displaying images\n",
    "recommendations_detail_df['Cover Image'] = recommendations_detail_df['Image-URL-M'].apply(lambda url: f'<img src=\"{url}\" width=\"150\" height=\"150\"/>')"
   ]
  },
  {
   "cell_type": "code",
   "execution_count": 73,
   "id": "b7215fae-d5c4-457a-958e-af14db616f7a",
   "metadata": {},
   "outputs": [
    {
     "data": {
      "text/html": [
       "<table border=\"1\" class=\"dataframe\">\n",
       "  <thead>\n",
       "    <tr style=\"text-align: right;\">\n",
       "      <th>ISBN</th>\n",
       "      <th>Book-Title</th>\n",
       "      <th>Book-Author</th>\n",
       "      <th>Publisher</th>\n",
       "      <th>Year-Of-Publication</th>\n",
       "      <th>Similarity Score</th>\n",
       "      <th>Ranking</th>\n",
       "      <th>Cover Image</th>\n",
       "    </tr>\n",
       "  </thead>\n",
       "  <tbody>\n",
       "    <tr>\n",
       "      <td>0833563505</td>\n",
       "      <td>The Queen of the Damned (Vampire Chronicles (Paperback))</td>\n",
       "      <td>Anne Rice</td>\n",
       "      <td>Sagebrush Bound</td>\n",
       "      <td>1999</td>\n",
       "      <td>1.000000</td>\n",
       "      <td>0</td>\n",
       "      <td><img src=\"http://images.amazon.com/images/P/0833563505.01.MZZZZZZZ.jpg\" width=\"150\" height=\"150\"/></td>\n",
       "    </tr>\n",
       "    <tr>\n",
       "      <td>0345313860</td>\n",
       "      <td>The Vampire Lestat (Vampire Chronicles, Book II)</td>\n",
       "      <td>ANNE RICE</td>\n",
       "      <td>Ballantine Books</td>\n",
       "      <td>1986</td>\n",
       "      <td>0.252394</td>\n",
       "      <td>1</td>\n",
       "      <td><img src=\"http://images.amazon.com/images/P/0345313860.01.MZZZZZZZ.jpg\" width=\"150\" height=\"150\"/></td>\n",
       "    </tr>\n",
       "    <tr>\n",
       "      <td>0345422384</td>\n",
       "      <td>Pandora: New Tales of the Vampires (New Tales of the Vampires)</td>\n",
       "      <td>Anne Rice</td>\n",
       "      <td>Ballantine Books</td>\n",
       "      <td>1999</td>\n",
       "      <td>0.239926</td>\n",
       "      <td>2</td>\n",
       "      <td><img src=\"http://images.amazon.com/images/P/0345422384.01.MZZZZZZZ.jpg\" width=\"150\" height=\"150\"/></td>\n",
       "    </tr>\n",
       "    <tr>\n",
       "      <td>034538475X</td>\n",
       "      <td>The Tale of the Body Thief (Vampire Chronicles (Paperback))</td>\n",
       "      <td>Anne Rice</td>\n",
       "      <td>Ballantine Books</td>\n",
       "      <td>1993</td>\n",
       "      <td>0.237966</td>\n",
       "      <td>3</td>\n",
       "      <td><img src=\"http://images.amazon.com/images/P/034538475X.01.MZZZZZZZ.jpg\" width=\"150\" height=\"150\"/></td>\n",
       "    </tr>\n",
       "    <tr>\n",
       "      <td>0345337662</td>\n",
       "      <td>Interview with the Vampire</td>\n",
       "      <td>Anne Rice</td>\n",
       "      <td>Ballantine Books</td>\n",
       "      <td>1993</td>\n",
       "      <td>0.234949</td>\n",
       "      <td>4</td>\n",
       "      <td><img src=\"http://images.amazon.com/images/P/0345337662.01.MZZZZZZZ.jpg\" width=\"150\" height=\"150\"/></td>\n",
       "    </tr>\n",
       "    <tr>\n",
       "      <td>0446671002</td>\n",
       "      <td>The Celestine Prophecy</td>\n",
       "      <td>James Redfield</td>\n",
       "      <td>Warner Books</td>\n",
       "      <td>1995</td>\n",
       "      <td>0.229347</td>\n",
       "      <td>5</td>\n",
       "      <td><img src=\"http://images.amazon.com/images/P/0446671002.01.MZZZZZZZ.jpg\" width=\"150\" height=\"150\"/></td>\n",
       "    </tr>\n",
       "    <tr>\n",
       "      <td>0345440781</td>\n",
       "      <td>The Redemption of Althalus</td>\n",
       "      <td>David Eddings</td>\n",
       "      <td>Del Rey Books</td>\n",
       "      <td>2001</td>\n",
       "      <td>0.217616</td>\n",
       "      <td>6</td>\n",
       "      <td><img src=\"http://images.amazon.com/images/P/0345440781.01.MZZZZZZZ.jpg\" width=\"150\" height=\"150\"/></td>\n",
       "    </tr>\n",
       "    <tr>\n",
       "      <td>0451169530</td>\n",
       "      <td>The Stand: Complete and Uncut</td>\n",
       "      <td>Stephen King</td>\n",
       "      <td>Signet Book</td>\n",
       "      <td>1991</td>\n",
       "      <td>0.193729</td>\n",
       "      <td>7</td>\n",
       "      <td><img src=\"http://images.amazon.com/images/P/0451169530.01.MZZZZZZZ.jpg\" width=\"150\" height=\"150\"/></td>\n",
       "    </tr>\n",
       "    <tr>\n",
       "      <td>0345409671</td>\n",
       "      <td>Memnoch the Devil (Vampire Chronicles, No 5)</td>\n",
       "      <td>Anne Rice</td>\n",
       "      <td>Ballantine Books</td>\n",
       "      <td>1997</td>\n",
       "      <td>0.181737</td>\n",
       "      <td>8</td>\n",
       "      <td><img src=\"http://images.amazon.com/images/P/0345409671.01.MZZZZZZZ.jpg\" width=\"150\" height=\"150\"/></td>\n",
       "    </tr>\n",
       "    <tr>\n",
       "      <td>0385507593</td>\n",
       "      <td>Jennifer Government : A Novel</td>\n",
       "      <td>Max Barry</td>\n",
       "      <td>Doubleday</td>\n",
       "      <td>2003</td>\n",
       "      <td>0.169625</td>\n",
       "      <td>9</td>\n",
       "      <td><img src=\"http://images.amazon.com/images/P/0385507593.01.MZZZZZZZ.jpg\" width=\"150\" height=\"150\"/></td>\n",
       "    </tr>\n",
       "    <tr>\n",
       "      <td>0786881852</td>\n",
       "      <td>Don't Sweat the Small Stuff and It's All Small Stuff : Simple Ways to Keep the Little Things from Taking Over Your Life (Don't Sweat the Small Stuff Series)</td>\n",
       "      <td>Richard Carlson</td>\n",
       "      <td>Hyperion</td>\n",
       "      <td>1997</td>\n",
       "      <td>0.166977</td>\n",
       "      <td>10</td>\n",
       "      <td><img src=\"http://images.amazon.com/images/P/0786881852.01.MZZZZZZZ.jpg\" width=\"150\" height=\"150\"/></td>\n",
       "    </tr>\n",
       "  </tbody>\n",
       "</table>"
      ],
      "text/plain": [
       "<IPython.core.display.HTML object>"
      ]
     },
     "metadata": {},
     "output_type": "display_data"
    }
   ],
   "source": [
    "# Display the DataFrame with images\n",
    "display(HTML(recommendations_detail_df.drop(\"Image-URL-M\",axis=1).sort_values(\"Ranking\").to_html(escape=False, index=False)))"
   ]
  }
 ],
 "metadata": {
  "kernelspec": {
   "display_name": "Python 3 (ipykernel)",
   "language": "python",
   "name": "python3"
  },
  "language_info": {
   "codemirror_mode": {
    "name": "ipython",
    "version": 3
   },
   "file_extension": ".py",
   "mimetype": "text/x-python",
   "name": "python",
   "nbconvert_exporter": "python",
   "pygments_lexer": "ipython3",
   "version": "3.11.7"
  }
 },
 "nbformat": 4,
 "nbformat_minor": 5
}
